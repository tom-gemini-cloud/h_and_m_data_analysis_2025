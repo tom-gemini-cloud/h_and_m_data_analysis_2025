{
  "cells": [
    {
      "cell_type": "markdown",
      "id": "3593be9e",
      "metadata": {},
      "source": [
        "# Producing Data Understanding Reports in Markdown\n"
      ]
    },
    {
      "cell_type": "markdown",
      "id": "45652603",
      "metadata": {},
      "source": [
        "## Import the report generator module\n"
      ]
    },
    {
      "cell_type": "code",
      "execution_count": 1,
      "id": "8a0b60b5",
      "metadata": {},
      "outputs": [],
      "source": [
        "import sys\n",
        "sys.path.append('../') \n",
        "\n",
        "from hnm_data_analysis.data_understanding.data_report_generator import generate_data_report\n",
        "from hnm_data_analysis.data_understanding.outlier_analysis import generate_outlier_report"
      ]
    },
    {
      "cell_type": "markdown",
      "id": "04b18810",
      "metadata": {},
      "source": [
        "## Generate Basic Data Understanding Reports\n"
      ]
    },
    {
      "cell_type": "code",
      "execution_count": null,
      "id": "d727fdfe",
      "metadata": {},
      "outputs": [
        {
          "name": "stdout",
          "output_type": "stream",
          "text": [
            "Data report generated successfully!\n",
            "Analyzed file: ..\\data\\raw\\customers.csv\n",
            "Report saved to: ..\\results\\data_documentation\\data_reports\\customers_data_report.md\n",
            "results\\data_documentation\\data_reports\\customers_data_report.md\n",
            "Data report generated successfully!\n",
            "Analyzed file: ..\\data\\raw\\transactions_train.csv\n",
            "Report saved to: ..\\results\\data_documentation\\data_reports\\transactions_train_data_report.md\n",
            "results\\data_documentation\\data_reports\\transactions_train_data_report.md\n",
            "Data report generated successfully!\n",
            "Analyzed file: ..\\data\\raw\\articles.csv\n",
            "Report saved to: ..\\results\\data_documentation\\data_reports\\articles_data_report.md\n",
            "results\\data_documentation\\data_reports\\articles_data_report.md\n",
            "Data report generated successfully!\n",
            "Analyzed file: ..\\data\\processed\\customers_last_3_months.parquet\n",
            "Report saved to: ..\\results\\data_documentation\\data_reports\\customers_last_3_months_data_report.md\n",
            "results\\data_documentation\\data_reports\\customers_last_3_months_data_report.md\n",
            "Data report generated successfully!\n",
            "Analyzed file: ..\\data\\processed\\transactions_last_3_months.parquet\n",
            "Report saved to: ..\\results\\data_documentation\\data_reports\\transactions_last_3_months_data_report.md\n",
            "results\\data_documentation\\data_reports\\transactions_last_3_months_data_report.md\n",
            "Data report generated successfully!\n",
            "Analyzed file: ..\\data\\processed\\articles_last_3_months.parquet\n",
            "Report saved to: ..\\results\\data_documentation\\data_reports\\articles_last_3_months_data_report.md\n",
            "results\\data_documentation\\data_reports\\articles_last_3_months_data_report.md\n"
          ]
        }
      ],
      "source": [
        "try:\n",
        "        # Generate data report for customers_last_3_months.csv\n",
        "    print(generate_data_report(\"../data/processed/customers_last_3_months.parquet\"))\n",
        "\n",
        "    # Generate data report for transactions_last_3_months.csv\n",
        "    print(generate_data_report(\"../data/processed/transactions_last_3_months.parquet\"))\n",
        "\n",
        "    # Generate data report for articles_last_3_months.csv\n",
        "    print(generate_data_report(\"../data/processed/articles_last_3_months.parquet\"))\n",
        "\n",
        "except Exception as e:\n",
        "    print(f\"Error: {e}\")"
      ]
    },
    {
      "cell_type": "markdown",
      "id": "d0b0f1f0",
      "metadata": {},
      "source": [
        "## Generate Outlier Reports\n"
      ]
    },
    {
      "cell_type": "code",
      "execution_count": 3,
      "id": "2a91fa1f",
      "metadata": {},
      "outputs": [
        {
          "name": "stdout",
          "output_type": "stream",
          "text": [
            "✅ Outlier analysis complete: results\\data_documentation\\outliers\\transactions_last_3_months_outlier_analysis.md\n",
            "✅ Outlier analysis complete: results\\data_documentation\\outliers\\articles_last_3_months_outlier_analysis.md\n",
            "✅ Outlier analysis complete: results\\data_documentation\\outliers\\customers_last_3_months_outlier_analysis.md\n"
          ]
        }
      ],
      "source": [
        "# Produce Outlier Report for Transactions Last 3 Months\n",
        "report_path = generate_outlier_report(\"../data/processed/transactions_last_3_months.parquet\")\n",
        "print(f\"✅ Outlier analysis complete: {report_path}\")\n",
        "\n",
        "# Produce Outlier Report for Articles Last 3 Months\n",
        "report_path = generate_outlier_report(\"../data/processed/articles_last_3_months.parquet\")\n",
        "print(f\"✅ Outlier analysis complete: {report_path}\")\n",
        "\n",
        "# Produce Outlier Report for Customers Last 3 Months\n",
        "report_path = generate_outlier_report(\"../data/processed/customers_last_3_months.parquet\")\n",
        "print(f\"✅ Outlier analysis complete: {report_path}\")"
      ]
    }
  ],
  "metadata": {
    "kernelspec": {
      "display_name": ".venv",
      "language": "python",
      "name": "python3"
    },
    "language_info": {
      "codemirror_mode": {
        "name": "ipython",
        "version": 3
      },
      "file_extension": ".py",
      "mimetype": "text/x-python",
      "name": "python",
      "nbconvert_exporter": "python",
      "pygments_lexer": "ipython3",
      "version": "3.11.9"
    }
  },
  "nbformat": 4,
  "nbformat_minor": 5
}
