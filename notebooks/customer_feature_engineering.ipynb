{
 "cells": [
  {
   "cell_type": "markdown",
   "metadata": {},
   "source": [
    "# Customer Feature Engineering\n",
    "\n",
    "This notebook implements customer feature engineering for the H&M dataset, including:\n",
    "\n",
    "- RFM Analysis (Recency, Frequency, Monetary)\n",
    "- Purchase diversity score\n",
    "- Price sensitivity index\n",
    "- Colour preference entropy\n",
    "- Style consistency score\n",
    "\n",
    "The engineered features will later be used for customer segmentation and behavioural analysis.\n"
   ]
  },
  {
   "cell_type": "markdown",
   "metadata": {},
   "source": [
    "## 1. Setup and Imports\n"
   ]
  },
  {
   "cell_type": "code",
   "execution_count": 1,
   "metadata": {},
   "outputs": [
    {
     "name": "stdout",
     "output_type": "stream",
     "text": [
      "Setup complete!\n",
      "Polars version: 1.32.0\n",
      "Working directory: /Users/tom/Data Analysis Projects/h_and_m_data_analysis/notebooks\n"
     ]
    }
   ],
   "source": [
    "# Add project root to path\n",
    "import sys\n",
    "sys.path.append('../')\n",
    "\n",
    "# Core imports\n",
    "import polars as pl\n",
    "import numpy as np\n",
    "import pandas as pd\n",
    "from pathlib import Path\n",
    "import warnings\n",
    "warnings.filterwarnings('ignore')\n",
    "\n",
    "# Visualisation imports\n",
    "import matplotlib.pyplot as plt\n",
    "import seaborn as sns\n",
    "import plotly.express as px\n",
    "import plotly.graph_objects as go\n",
    "from plotly.subplots import make_subplots\n",
    "\n",
    "# Project imports\n",
    "from hnm_data_analysis.feature_engineering.customer_features import CustomerFeatures\n",
    "from hnm_data_analysis.data_understanding.data_report_generator import generate_data_report\n",
    "\n",
    "# Configuration\n",
    "plt.style.use('seaborn-v0_8')\n",
    "pl.Config.set_tbl_rows(10)\n",
    "pl.Config.set_tbl_cols(15)\n",
    "\n",
    "print(\"Setup complete!\")\n",
    "print(f\"Polars version: {pl.__version__}\")\n",
    "print(f\"Working directory: {Path.cwd()}\")"
   ]
  },
  {
   "cell_type": "markdown",
   "metadata": {},
   "source": [
    "## 2. Data Loading and Initial Exploration\n",
    "\n",
    "Let's examine the structure of our cleaned datasets before feature engineering.\n"
   ]
  },
  {
   "cell_type": "code",
   "execution_count": 2,
   "metadata": {},
   "outputs": [
    {
     "name": "stdout",
     "output_type": "stream",
     "text": [
      "✅ ../data/cleaned/customers_cleaned.parquet found\n",
      "✅ ../data/cleaned/transactions_cleaned.parquet found\n",
      "✅ ../data/features/final/articles_features_final.parquet found\n",
      "\n",
      "==================================================\n",
      "DATASET OVERVIEW\n",
      "==================================================\n"
     ]
    }
   ],
   "source": [
    "# Load cleaned datasets for exploration\n",
    "customers_path = \"../data/cleaned/customers_cleaned.parquet\"\n",
    "transactions_path = \"../data/cleaned/transactions_cleaned.parquet\"\n",
    "articles_path = \"../data/features/final/articles_features_final.parquet\"\n",
    "\n",
    "# Check file existence\n",
    "for path in [customers_path, transactions_path, articles_path]:\n",
    "    if not Path(path).exists():\n",
    "        print(f\"⚠️  Warning: {path} not found\")\n",
    "    else:\n",
    "        print(f\"✅ {path} found\")\n",
    "\n",
    "print(\"\\n\" + \"=\"*50)\n",
    "print(\"DATASET OVERVIEW\")\n",
    "print(\"=\"*50)"
   ]
  },
  {
   "cell_type": "code",
   "execution_count": 3,
   "metadata": {},
   "outputs": [
    {
     "name": "stdout",
     "output_type": "stream",
     "text": [
      "📊 CUSTOMERS DATASET\n",
      "Shape: (525075, 14)\n",
      "Columns: ['customer_id', 'FN', 'Active', 'club_member_status', 'fashion_news_frequency', 'age', 'postal_code', 'FN_imputed', 'Active_imputed', 'club_member_status_imputed', 'fashion_news_frequency_imputed', 'age_imputed', 'postal_code_imputed', 'age_corrected']\n",
      "\n",
      "Schema:\n",
      "Schema([('customer_id', String), ('FN', Float64), ('Active', Float64), ('club_member_status', Categorical(Categories(\"\"))), ('fashion_news_frequency', Categorical(Categories(\"\"))), ('age', Float64), ('postal_code', Categorical(Categories(\"\"))), ('FN_imputed', Boolean), ('Active_imputed', Boolean), ('club_member_status_imputed', Boolean), ('fashion_news_frequency_imputed', Boolean), ('age_imputed', Boolean), ('postal_code_imputed', Boolean), ('age_corrected', Boolean)])\n",
      "\n",
      "Sample data:\n"
     ]
    },
    {
     "data": {
      "text/html": [
       "<div><style>\n",
       ".dataframe > thead > tr,\n",
       ".dataframe > tbody > tr {\n",
       "  text-align: right;\n",
       "  white-space: pre-wrap;\n",
       "}\n",
       "</style>\n",
       "<small>shape: (3, 14)</small><table border=\"1\" class=\"dataframe\"><thead><tr><th>customer_id</th><th>FN</th><th>Active</th><th>club_member_status</th><th>fashion_news_frequency</th><th>age</th><th>postal_code</th><th>FN_imputed</th><th>Active_imputed</th><th>club_member_status_imputed</th><th>fashion_news_frequency_imputed</th><th>age_imputed</th><th>postal_code_imputed</th><th>age_corrected</th></tr><tr><td>str</td><td>f64</td><td>f64</td><td>cat</td><td>cat</td><td>f64</td><td>cat</td><td>bool</td><td>bool</td><td>bool</td><td>bool</td><td>bool</td><td>bool</td><td>bool</td></tr></thead><tbody><tr><td>&quot;438607b2b3aac3e702db0f5b3c4671…</td><td>1.0</td><td>1.0</td><td>&quot;ACTIVE&quot;</td><td>&quot;Regularly&quot;</td><td>50.0</td><td>&quot;27602626831e85a1a8945906f565f0…</td><td>false</td><td>false</td><td>false</td><td>false</td><td>false</td><td>false</td><td>false</td></tr><tr><td>&quot;13233aed650830ba4a6334767848bb…</td><td>0.0</td><td>0.0</td><td>&quot;ACTIVE&quot;</td><td>&quot;NONE&quot;</td><td>28.0</td><td>&quot;a8b29ddf414ee0011f4130349551cd…</td><td>true</td><td>true</td><td>false</td><td>false</td><td>false</td><td>false</td><td>false</td></tr><tr><td>&quot;88962d49bd663778682892f9c49a64…</td><td>1.0</td><td>1.0</td><td>&quot;ACTIVE&quot;</td><td>&quot;Regularly&quot;</td><td>21.0</td><td>&quot;a6cb86a4267472204455c76018edb3…</td><td>false</td><td>false</td><td>false</td><td>false</td><td>false</td><td>false</td><td>false</td></tr></tbody></table></div>"
      ],
      "text/plain": [
       "shape: (3, 14)\n",
       "┌─────┬─────┬─────┬─────┬─────┬─────┬─────┬────────┬───────┬───────┬───────┬───────┬───────┬───────┐\n",
       "│ cus ┆ FN  ┆ Act ┆ clu ┆ fas ┆ age ┆ pos ┆ FN_imp ┆ Activ ┆ club_ ┆ fashi ┆ age_i ┆ posta ┆ age_c │\n",
       "│ tom ┆ --- ┆ ive ┆ b_m ┆ hio ┆ --- ┆ tal ┆ uted   ┆ e_imp ┆ membe ┆ on_ne ┆ mpute ┆ l_cod ┆ orrec │\n",
       "│ er_ ┆ f64 ┆ --- ┆ emb ┆ n_n ┆ f64 ┆ _co ┆ ---    ┆ uted  ┆ r_sta ┆ ws_fr ┆ d     ┆ e_imp ┆ ted   │\n",
       "│ id  ┆     ┆ f64 ┆ er_ ┆ ews ┆     ┆ de  ┆ bool   ┆ ---   ┆ tus_i ┆ equen ┆ ---   ┆ uted  ┆ ---   │\n",
       "│ --- ┆     ┆     ┆ sta ┆ _fr ┆     ┆ --- ┆        ┆ bool  ┆ mpute ┆ cy_im ┆ bool  ┆ ---   ┆ bool  │\n",
       "│ str ┆     ┆     ┆ tus ┆ equ ┆     ┆ cat ┆        ┆       ┆ d     ┆ puted ┆       ┆ bool  ┆       │\n",
       "│     ┆     ┆     ┆ --- ┆ enc ┆     ┆     ┆        ┆       ┆ ---   ┆ ---   ┆       ┆       ┆       │\n",
       "│     ┆     ┆     ┆ cat ┆ y   ┆     ┆     ┆        ┆       ┆ bool  ┆ bool  ┆       ┆       ┆       │\n",
       "│     ┆     ┆     ┆     ┆ --- ┆     ┆     ┆        ┆       ┆       ┆       ┆       ┆       ┆       │\n",
       "│     ┆     ┆     ┆     ┆ cat ┆     ┆     ┆        ┆       ┆       ┆       ┆       ┆       ┆       │\n",
       "╞═════╪═════╪═════╪═════╪═════╪═════╪═════╪════════╪═══════╪═══════╪═══════╪═══════╪═══════╪═══════╡\n",
       "│ 438 ┆ 1.0 ┆ 1.0 ┆ ACT ┆ Reg ┆ 50. ┆ 276 ┆ false  ┆ false ┆ false ┆ false ┆ false ┆ false ┆ false │\n",
       "│ 607 ┆     ┆     ┆ IVE ┆ ula ┆ 0   ┆ 026 ┆        ┆       ┆       ┆       ┆       ┆       ┆       │\n",
       "│ b2b ┆     ┆     ┆     ┆ rly ┆     ┆ 268 ┆        ┆       ┆       ┆       ┆       ┆       ┆       │\n",
       "│ 3aa ┆     ┆     ┆     ┆     ┆     ┆ 31e ┆        ┆       ┆       ┆       ┆       ┆       ┆       │\n",
       "│ c3e ┆     ┆     ┆     ┆     ┆     ┆ 85a ┆        ┆       ┆       ┆       ┆       ┆       ┆       │\n",
       "│ 702 ┆     ┆     ┆     ┆     ┆     ┆ 1a8 ┆        ┆       ┆       ┆       ┆       ┆       ┆       │\n",
       "│ db0 ┆     ┆     ┆     ┆     ┆     ┆ 945 ┆        ┆       ┆       ┆       ┆       ┆       ┆       │\n",
       "│ f5b ┆     ┆     ┆     ┆     ┆     ┆ 906 ┆        ┆       ┆       ┆       ┆       ┆       ┆       │\n",
       "│ 3c4 ┆     ┆     ┆     ┆     ┆     ┆ f56 ┆        ┆       ┆       ┆       ┆       ┆       ┆       │\n",
       "│ 671 ┆     ┆     ┆     ┆     ┆     ┆ 5f0 ┆        ┆       ┆       ┆       ┆       ┆       ┆       │\n",
       "│ …   ┆     ┆     ┆     ┆     ┆     ┆ …   ┆        ┆       ┆       ┆       ┆       ┆       ┆       │\n",
       "│ 132 ┆ 0.0 ┆ 0.0 ┆ ACT ┆ NON ┆ 28. ┆ a8b ┆ true   ┆ true  ┆ false ┆ false ┆ false ┆ false ┆ false │\n",
       "│ 33a ┆     ┆     ┆ IVE ┆ E   ┆ 0   ┆ 29d ┆        ┆       ┆       ┆       ┆       ┆       ┆       │\n",
       "│ ed6 ┆     ┆     ┆     ┆     ┆     ┆ df4 ┆        ┆       ┆       ┆       ┆       ┆       ┆       │\n",
       "│ 508 ┆     ┆     ┆     ┆     ┆     ┆ 14e ┆        ┆       ┆       ┆       ┆       ┆       ┆       │\n",
       "│ 30b ┆     ┆     ┆     ┆     ┆     ┆ e00 ┆        ┆       ┆       ┆       ┆       ┆       ┆       │\n",
       "│ a4a ┆     ┆     ┆     ┆     ┆     ┆ 11f ┆        ┆       ┆       ┆       ┆       ┆       ┆       │\n",
       "│ 633 ┆     ┆     ┆     ┆     ┆     ┆ 413 ┆        ┆       ┆       ┆       ┆       ┆       ┆       │\n",
       "│ 476 ┆     ┆     ┆     ┆     ┆     ┆ 034 ┆        ┆       ┆       ┆       ┆       ┆       ┆       │\n",
       "│ 784 ┆     ┆     ┆     ┆     ┆     ┆ 955 ┆        ┆       ┆       ┆       ┆       ┆       ┆       │\n",
       "│ 8bb ┆     ┆     ┆     ┆     ┆     ┆ 1cd ┆        ┆       ┆       ┆       ┆       ┆       ┆       │\n",
       "│ …   ┆     ┆     ┆     ┆     ┆     ┆ …   ┆        ┆       ┆       ┆       ┆       ┆       ┆       │\n",
       "│ 889 ┆ 1.0 ┆ 1.0 ┆ ACT ┆ Reg ┆ 21. ┆ a6c ┆ false  ┆ false ┆ false ┆ false ┆ false ┆ false ┆ false │\n",
       "│ 62d ┆     ┆     ┆ IVE ┆ ula ┆ 0   ┆ b86 ┆        ┆       ┆       ┆       ┆       ┆       ┆       │\n",
       "│ 49b ┆     ┆     ┆     ┆ rly ┆     ┆ a42 ┆        ┆       ┆       ┆       ┆       ┆       ┆       │\n",
       "│ d66 ┆     ┆     ┆     ┆     ┆     ┆ 674 ┆        ┆       ┆       ┆       ┆       ┆       ┆       │\n",
       "│ 377 ┆     ┆     ┆     ┆     ┆     ┆ 722 ┆        ┆       ┆       ┆       ┆       ┆       ┆       │\n",
       "│ 868 ┆     ┆     ┆     ┆     ┆     ┆ 044 ┆        ┆       ┆       ┆       ┆       ┆       ┆       │\n",
       "│ 289 ┆     ┆     ┆     ┆     ┆     ┆ 55c ┆        ┆       ┆       ┆       ┆       ┆       ┆       │\n",
       "│ 2f9 ┆     ┆     ┆     ┆     ┆     ┆ 760 ┆        ┆       ┆       ┆       ┆       ┆       ┆       │\n",
       "│ c49 ┆     ┆     ┆     ┆     ┆     ┆ 18e ┆        ┆       ┆       ┆       ┆       ┆       ┆       │\n",
       "│ a64 ┆     ┆     ┆     ┆     ┆     ┆ db3 ┆        ┆       ┆       ┆       ┆       ┆       ┆       │\n",
       "│ …   ┆     ┆     ┆     ┆     ┆     ┆ …   ┆        ┆       ┆       ┆       ┆       ┆       ┆       │\n",
       "└─────┴─────┴─────┴─────┴─────┴─────┴─────┴────────┴───────┴───────┴───────┴───────┴───────┴───────┘"
      ]
     },
     "execution_count": 3,
     "metadata": {},
     "output_type": "execute_result"
    }
   ],
   "source": [
    "# Load and examine customers data\n",
    "customers_df = pl.read_parquet(customers_path)\n",
    "\n",
    "print(\"📊 CUSTOMERS DATASET\")\n",
    "print(f\"Shape: {customers_df.shape}\")\n",
    "print(f\"Columns: {list(customers_df.columns)}\")\n",
    "print(\"\\nSchema:\")\n",
    "print(customers_df.schema)\n",
    "print(\"\\nSample data:\")\n",
    "customers_df.head(3)"
   ]
  },
  {
   "cell_type": "code",
   "execution_count": 4,
   "metadata": {},
   "outputs": [
    {
     "name": "stdout",
     "output_type": "stream",
     "text": [
      "📊 TRANSACTIONS DATASET\n",
      "Shape: (3904391, 8)\n",
      "Columns: ['t_dat', 'customer_id', 'article_id', 'price', 'sales_channel_id', 'price_outlier_capped', 'sales_channel_corrected', 'price_percentile_calibrated']\n",
      "\n",
      "Schema:\n",
      "Schema([('t_dat', Date), ('customer_id', String), ('article_id', Int64), ('price', Float64), ('sales_channel_id', Int64), ('price_outlier_capped', Boolean), ('sales_channel_corrected', Boolean), ('price_percentile_calibrated', Boolean)])\n",
      "\n",
      "Date range:\n",
      "shape: (1, 2)\n",
      "┌────────────┬────────────┐\n",
      "│ min_date   ┆ max_date   │\n",
      "│ ---        ┆ ---        │\n",
      "│ date       ┆ date       │\n",
      "╞════════════╪════════════╡\n",
      "│ 2020-06-24 ┆ 2020-09-22 │\n",
      "└────────────┴────────────┘\n",
      "\n",
      "Sample data:\n"
     ]
    },
    {
     "data": {
      "text/html": [
       "<div><style>\n",
       ".dataframe > thead > tr,\n",
       ".dataframe > tbody > tr {\n",
       "  text-align: right;\n",
       "  white-space: pre-wrap;\n",
       "}\n",
       "</style>\n",
       "<small>shape: (3, 8)</small><table border=\"1\" class=\"dataframe\"><thead><tr><th>t_dat</th><th>customer_id</th><th>article_id</th><th>price</th><th>sales_channel_id</th><th>price_outlier_capped</th><th>sales_channel_corrected</th><th>price_percentile_calibrated</th></tr><tr><td>date</td><td>str</td><td>i64</td><td>f64</td><td>i64</td><td>bool</td><td>bool</td><td>bool</td></tr></thead><tbody><tr><td>2020-06-24</td><td>&quot;0001b0127d3e5ff8dadcfc6e504368…</td><td>844409002</td><td>14.33</td><td>1</td><td>false</td><td>false</td><td>true</td></tr><tr><td>2020-06-24</td><td>&quot;0001b0127d3e5ff8dadcfc6e504368…</td><td>876053003</td><td>21.35</td><td>1</td><td>false</td><td>false</td><td>true</td></tr><tr><td>2020-06-24</td><td>&quot;000493dd9fc463df1acc2081450c9e…</td><td>831269004</td><td>11.32</td><td>1</td><td>false</td><td>false</td><td>true</td></tr></tbody></table></div>"
      ],
      "text/plain": [
       "shape: (3, 8)\n",
       "┌────────────┬────────────┬────────────┬───────┬────────────┬────────────┬────────────┬────────────┐\n",
       "│ t_dat      ┆ customer_i ┆ article_id ┆ price ┆ sales_chan ┆ price_outl ┆ sales_chan ┆ price_perc │\n",
       "│ ---        ┆ d          ┆ ---        ┆ ---   ┆ nel_id     ┆ ier_capped ┆ nel_correc ┆ entile_cal │\n",
       "│ date       ┆ ---        ┆ i64        ┆ f64   ┆ ---        ┆ ---        ┆ ted        ┆ ibrated    │\n",
       "│            ┆ str        ┆            ┆       ┆ i64        ┆ bool       ┆ ---        ┆ ---        │\n",
       "│            ┆            ┆            ┆       ┆            ┆            ┆ bool       ┆ bool       │\n",
       "╞════════════╪════════════╪════════════╪═══════╪════════════╪════════════╪════════════╪════════════╡\n",
       "│ 2020-06-24 ┆ 0001b0127d ┆ 844409002  ┆ 14.33 ┆ 1          ┆ false      ┆ false      ┆ true       │\n",
       "│            ┆ 3e5ff8dadc ┆            ┆       ┆            ┆            ┆            ┆            │\n",
       "│            ┆ fc6e504368 ┆            ┆       ┆            ┆            ┆            ┆            │\n",
       "│            ┆ …          ┆            ┆       ┆            ┆            ┆            ┆            │\n",
       "│ 2020-06-24 ┆ 0001b0127d ┆ 876053003  ┆ 21.35 ┆ 1          ┆ false      ┆ false      ┆ true       │\n",
       "│            ┆ 3e5ff8dadc ┆            ┆       ┆            ┆            ┆            ┆            │\n",
       "│            ┆ fc6e504368 ┆            ┆       ┆            ┆            ┆            ┆            │\n",
       "│            ┆ …          ┆            ┆       ┆            ┆            ┆            ┆            │\n",
       "│ 2020-06-24 ┆ 000493dd9f ┆ 831269004  ┆ 11.32 ┆ 1          ┆ false      ┆ false      ┆ true       │\n",
       "│            ┆ c463df1acc ┆            ┆       ┆            ┆            ┆            ┆            │\n",
       "│            ┆ 2081450c9e ┆            ┆       ┆            ┆            ┆            ┆            │\n",
       "│            ┆ …          ┆            ┆       ┆            ┆            ┆            ┆            │\n",
       "└────────────┴────────────┴────────────┴───────┴────────────┴────────────┴────────────┴────────────┘"
      ]
     },
     "execution_count": 4,
     "metadata": {},
     "output_type": "execute_result"
    }
   ],
   "source": [
    "# Load and examine transactions data\n",
    "transactions_df = pl.read_parquet(transactions_path)\n",
    "\n",
    "print(\"📊 TRANSACTIONS DATASET\")\n",
    "print(f\"Shape: {transactions_df.shape}\")\n",
    "print(f\"Columns: {list(transactions_df.columns)}\")\n",
    "print(\"\\nSchema:\")\n",
    "print(transactions_df.schema)\n",
    "print(\"\\nDate range:\")\n",
    "print(transactions_df.select([pl.col(\"t_dat\").min().alias(\"min_date\"), \n",
    "                             pl.col(\"t_dat\").max().alias(\"max_date\")]))\n",
    "print(\"\\nSample data:\")\n",
    "transactions_df.head(3)"
   ]
  },
  {
   "cell_type": "code",
   "execution_count": 5,
   "metadata": {},
   "outputs": [
    {
     "name": "stdout",
     "output_type": "stream",
     "text": [
      "📊 ARTICLES DATASET\n",
      "Shape: (42298, 14)\n",
      "Columns: ['article_id', 'product_type_name', 'product_group_name', 'graphical_appearance_name', 'colour_group_name', 'perceived_colour_value_name', 'perceived_colour_master_name', 'department_name', 'index_name', 'index_group_name', 'section_name', 'garment_group_name', 'detail_desc', 'bert_cluster']\n",
      "\n",
      "Schema:\n",
      "Schema([('article_id', Int64), ('product_type_name', Categorical), ('product_group_name', Categorical), ('graphical_appearance_name', Categorical), ('colour_group_name', Categorical), ('perceived_colour_value_name', Categorical), ('perceived_colour_master_name', Categorical), ('department_name', Categorical), ('index_name', Categorical), ('index_group_name', Categorical), ('section_name', Categorical), ('garment_group_name', Categorical), ('detail_desc', Categorical), ('bert_cluster', Int64)])\n",
      "\n",
      "Sample data:\n"
     ]
    },
    {
     "data": {
      "text/html": [
       "<div><style>\n",
       ".dataframe > thead > tr,\n",
       ".dataframe > tbody > tr {\n",
       "  text-align: right;\n",
       "  white-space: pre-wrap;\n",
       "}\n",
       "</style>\n",
       "<small>shape: (3, 14)</small><table border=\"1\" class=\"dataframe\"><thead><tr><th>article_id</th><th>product_type_name</th><th>product_group_name</th><th>graphical_appearance_name</th><th>colour_group_name</th><th>perceived_colour_value_name</th><th>perceived_colour_master_name</th><th>department_name</th><th>index_name</th><th>index_group_name</th><th>section_name</th><th>garment_group_name</th><th>detail_desc</th><th>bert_cluster</th></tr><tr><td>i64</td><td>cat</td><td>cat</td><td>cat</td><td>cat</td><td>cat</td><td>cat</td><td>cat</td><td>cat</td><td>cat</td><td>cat</td><td>cat</td><td>cat</td><td>i64</td></tr></thead><tbody><tr><td>652356082</td><td>&quot;Underwear bottom&quot;</td><td>&quot;Underwear&quot;</td><td>&quot;All over pattern&quot;</td><td>&quot;Orange&quot;</td><td>&quot;Dusty Light&quot;</td><td>&quot;Orange&quot;</td><td>&quot;Underwear Woven&quot;</td><td>&quot;Menswear&quot;</td><td>&quot;Menswear&quot;</td><td>&quot;Men Underwear&quot;</td><td>&quot;Under-, Nightwear&quot;</td><td>&quot;Boxer shorts in a cotton weave…</td><td>10</td></tr><tr><td>212629004</td><td>&quot;Dress&quot;</td><td>&quot;Garment Full body&quot;</td><td>&quot;Solid&quot;</td><td>&quot;Black&quot;</td><td>&quot;Dark&quot;</td><td>&quot;Black&quot;</td><td>&quot;Basic 1&quot;</td><td>&quot;Divided&quot;</td><td>&quot;Divided&quot;</td><td>&quot;Divided Basics&quot;</td><td>&quot;Jersey Basic&quot;</td><td>&quot;Long, sleeveless dress in jers…</td><td>28</td></tr><tr><td>619601011</td><td>&quot;Robe&quot;</td><td>&quot;Underwear&quot;</td><td>&quot;Mixed solid/pattern&quot;</td><td>&quot;Light Yellow&quot;</td><td>&quot;Light&quot;</td><td>&quot;Yellow&quot;</td><td>&quot;Kids Girl UW/NW&quot;</td><td>&quot;Children Sizes 92-140&quot;</td><td>&quot;Baby/Children&quot;</td><td>&quot;Girls Underwear &amp; Basics&quot;</td><td>&quot;Under-, Nightwear&quot;</td><td>&quot;Dressing gown in terry with a …</td><td>29</td></tr></tbody></table></div>"
      ],
      "text/plain": [
       "shape: (3, 14)\n",
       "┌─────┬─────┬─────┬─────┬─────┬─────┬─────┬────────┬───────┬───────┬───────┬───────┬───────┬───────┐\n",
       "│ art ┆ pro ┆ pro ┆ gra ┆ col ┆ per ┆ per ┆ depart ┆ index ┆ index ┆ secti ┆ garme ┆ detai ┆ bert_ │\n",
       "│ icl ┆ duc ┆ duc ┆ phi ┆ our ┆ cei ┆ cei ┆ ment_n ┆ _name ┆ _grou ┆ on_na ┆ nt_gr ┆ l_des ┆ clust │\n",
       "│ e_i ┆ t_t ┆ t_g ┆ cal ┆ _gr ┆ ved ┆ ved ┆ ame    ┆ ---   ┆ p_nam ┆ me    ┆ oup_n ┆ c     ┆ er    │\n",
       "│ d   ┆ ype ┆ rou ┆ _ap ┆ oup ┆ _co ┆ _co ┆ ---    ┆ cat   ┆ e     ┆ ---   ┆ ame   ┆ ---   ┆ ---   │\n",
       "│ --- ┆ _na ┆ p_n ┆ pea ┆ _na ┆ lou ┆ lou ┆ cat    ┆       ┆ ---   ┆ cat   ┆ ---   ┆ cat   ┆ i64   │\n",
       "│ i64 ┆ me  ┆ ame ┆ ran ┆ me  ┆ r_v ┆ r_m ┆        ┆       ┆ cat   ┆       ┆ cat   ┆       ┆       │\n",
       "│     ┆ --- ┆ --- ┆ ce_ ┆ --- ┆ alu ┆ ast ┆        ┆       ┆       ┆       ┆       ┆       ┆       │\n",
       "│     ┆ cat ┆ cat ┆ nam ┆ cat ┆ e_n ┆ er_ ┆        ┆       ┆       ┆       ┆       ┆       ┆       │\n",
       "│     ┆     ┆     ┆ e   ┆     ┆ ame ┆ nam ┆        ┆       ┆       ┆       ┆       ┆       ┆       │\n",
       "│     ┆     ┆     ┆ --- ┆     ┆ --- ┆ e   ┆        ┆       ┆       ┆       ┆       ┆       ┆       │\n",
       "│     ┆     ┆     ┆ cat ┆     ┆ cat ┆ --- ┆        ┆       ┆       ┆       ┆       ┆       ┆       │\n",
       "│     ┆     ┆     ┆     ┆     ┆     ┆ cat ┆        ┆       ┆       ┆       ┆       ┆       ┆       │\n",
       "╞═════╪═════╪═════╪═════╪═════╪═════╪═════╪════════╪═══════╪═══════╪═══════╪═══════╪═══════╪═══════╡\n",
       "│ 652 ┆ Und ┆ Und ┆ All ┆ Ora ┆ Dus ┆ Ora ┆ Underw ┆ Mensw ┆ Mensw ┆ Men   ┆ Under ┆ Boxer ┆ 10    │\n",
       "│ 356 ┆ erw ┆ erw ┆ ove ┆ nge ┆ ty  ┆ nge ┆ ear    ┆ ear   ┆ ear   ┆ Under ┆ -,    ┆ short ┆       │\n",
       "│ 082 ┆ ear ┆ ear ┆ r   ┆     ┆ Lig ┆     ┆ Woven  ┆       ┆       ┆ wear  ┆ Night ┆ s in  ┆       │\n",
       "│     ┆ bot ┆     ┆ pat ┆     ┆ ht  ┆     ┆        ┆       ┆       ┆       ┆ wear  ┆ a cot ┆       │\n",
       "│     ┆ tom ┆     ┆ ter ┆     ┆     ┆     ┆        ┆       ┆       ┆       ┆       ┆ ton   ┆       │\n",
       "│     ┆     ┆     ┆ n   ┆     ┆     ┆     ┆        ┆       ┆       ┆       ┆       ┆ weave ┆       │\n",
       "│     ┆     ┆     ┆     ┆     ┆     ┆     ┆        ┆       ┆       ┆       ┆       ┆ …     ┆       │\n",
       "│ 212 ┆ Dre ┆ Gar ┆ Sol ┆ Bla ┆ Dar ┆ Bla ┆ Basic  ┆ Divid ┆ Divid ┆ Divid ┆ Jerse ┆ Long, ┆ 28    │\n",
       "│ 629 ┆ ss  ┆ men ┆ id  ┆ ck  ┆ k   ┆ ck  ┆ 1      ┆ ed    ┆ ed    ┆ ed    ┆ y     ┆ sleev ┆       │\n",
       "│ 004 ┆     ┆ t   ┆     ┆     ┆     ┆     ┆        ┆       ┆       ┆ Basic ┆ Basic ┆ eless ┆       │\n",
       "│     ┆     ┆ Ful ┆     ┆     ┆     ┆     ┆        ┆       ┆       ┆ s     ┆       ┆ dress ┆       │\n",
       "│     ┆     ┆ l   ┆     ┆     ┆     ┆     ┆        ┆       ┆       ┆       ┆       ┆ in    ┆       │\n",
       "│     ┆     ┆ bod ┆     ┆     ┆     ┆     ┆        ┆       ┆       ┆       ┆       ┆ jers… ┆       │\n",
       "│     ┆     ┆ y   ┆     ┆     ┆     ┆     ┆        ┆       ┆       ┆       ┆       ┆       ┆       │\n",
       "│ 619 ┆ Rob ┆ Und ┆ Mix ┆ Lig ┆ Lig ┆ Yel ┆ Kids   ┆ Child ┆ Baby/ ┆ Girls ┆ Under ┆ Dress ┆ 29    │\n",
       "│ 601 ┆ e   ┆ erw ┆ ed  ┆ ht  ┆ ht  ┆ low ┆ Girl   ┆ ren   ┆ Child ┆ Under ┆ -,    ┆ ing   ┆       │\n",
       "│ 011 ┆     ┆ ear ┆ sol ┆ Yel ┆     ┆     ┆ UW/NW  ┆ Sizes ┆ ren   ┆ wear  ┆ Night ┆ gown  ┆       │\n",
       "│     ┆     ┆     ┆ id/ ┆ low ┆     ┆     ┆        ┆ 92-14 ┆       ┆ & Bas ┆ wear  ┆ in    ┆       │\n",
       "│     ┆     ┆     ┆ pat ┆     ┆     ┆     ┆        ┆ 0     ┆       ┆ ics   ┆       ┆ terry ┆       │\n",
       "│     ┆     ┆     ┆ ter ┆     ┆     ┆     ┆        ┆       ┆       ┆       ┆       ┆ with  ┆       │\n",
       "│     ┆     ┆     ┆ n   ┆     ┆     ┆     ┆        ┆       ┆       ┆       ┆       ┆ a …   ┆       │\n",
       "└─────┴─────┴─────┴─────┴─────┴─────┴─────┴────────┴───────┴───────┴───────┴───────┴───────┴───────┘"
      ]
     },
     "execution_count": 5,
     "metadata": {},
     "output_type": "execute_result"
    }
   ],
   "source": [
    "# Load and examine articles data\n",
    "articles_df = pl.read_parquet(articles_path)\n",
    "\n",
    "print(\"📊 ARTICLES DATASET\")\n",
    "print(f\"Shape: {articles_df.shape}\")\n",
    "print(f\"Columns: {list(articles_df.columns)}\")\n",
    "print(\"\\nSchema:\")\n",
    "print(articles_df.schema)\n",
    "print(\"\\nSample data:\")\n",
    "articles_df.head(3)"
   ]
  },
  {
   "cell_type": "markdown",
   "metadata": {},
   "source": [
    "## 3. Customer Feature Engineering\n",
    "\n",
    "Now we'll use our CustomerFeatures class to engineer customer behavioural features.\n"
   ]
  },
  {
   "cell_type": "code",
   "execution_count": 6,
   "metadata": {},
   "outputs": [
    {
     "name": "stdout",
     "output_type": "stream",
     "text": [
      "🔧 CUSTOMER FEATURE ENGINEERING CONFIGURATION\n",
      "Sample size: Full dataset\n",
      "Batch size: 50000\n",
      "\n",
      "Initialising CustomerFeatures class...\n",
      "✅ CustomerFeatures initialised successfully!\n"
     ]
    }
   ],
   "source": [
    "# Configuration for feature engineering\n",
    "# Set sample_size=None for full dataset processing, or specify a number for testing\n",
    "SAMPLE_SIZE = None  # Change to e.g., 10000 for testing with smaller dataset\n",
    "BATCH_SIZE = 50000  # Batch size for memory-efficient processing\n",
    "\n",
    "print(\"🔧 CUSTOMER FEATURE ENGINEERING CONFIGURATION\")\n",
    "print(f\"Sample size: {SAMPLE_SIZE if SAMPLE_SIZE else 'Full dataset'}\")\n",
    "print(f\"Batch size: {BATCH_SIZE}\")\n",
    "print(\"\\nInitialising CustomerFeatures class...\")\n",
    "\n",
    "# Initialise feature engineer\n",
    "feature_engineer = CustomerFeatures(\n",
    "    customers_path=customers_path,\n",
    "    transactions_path=transactions_path,\n",
    "    articles_path=articles_path,\n",
    "    batch_size=BATCH_SIZE,\n",
    "    sample_size=SAMPLE_SIZE\n",
    ")\n",
    "\n",
    "print(\"✅ CustomerFeatures initialised successfully!\")"
   ]
  },
  {
   "cell_type": "code",
   "execution_count": 7,
   "metadata": {},
   "outputs": [
    {
     "name": "stderr",
     "output_type": "stream",
     "text": [
      "INFO:hnm_data_analysis.feature_engineering.customer_features:Starting customer feature engineering pipeline...\n",
      "INFO:hnm_data_analysis.feature_engineering.customer_features:Loading datasets...\n"
     ]
    },
    {
     "name": "stdout",
     "output_type": "stream",
     "text": [
      "🚀 Starting customer feature engineering...\n",
      "This may take several minutes for the full dataset.\n",
      "\n"
     ]
    },
    {
     "name": "stderr",
     "output_type": "stream",
     "text": [
      "INFO:hnm_data_analysis.feature_engineering.customer_features:Reference date for recency: 2020-09-23\n",
      "INFO:hnm_data_analysis.feature_engineering.customer_features:Loaded: 525075 customers, 3904391 transactions, 42298 articles\n",
      "INFO:hnm_data_analysis.feature_engineering.customer_features:Calculating individual feature sets...\n",
      "INFO:hnm_data_analysis.feature_engineering.customer_features:Calculating RFM features...\n",
      "INFO:hnm_data_analysis.feature_engineering.customer_features:Price range: £2.39 - £149.99\n",
      "INFO:hnm_data_analysis.feature_engineering.customer_features:99th percentile: £149.99\n",
      "INFO:hnm_data_analysis.feature_engineering.customer_features:Customer frequency max: 350 (99th percentile: 43)\n",
      "INFO:hnm_data_analysis.feature_engineering.customer_features:Customer monetary max: £19342.12 (99th percentile: £1416.85)\n",
      "INFO:hnm_data_analysis.feature_engineering.customer_features:Calculating purchase diversity scores...\n",
      "INFO:hnm_data_analysis.feature_engineering.customer_features:Calculating price sensitivity indices...\n",
      "INFO:hnm_data_analysis.feature_engineering.customer_features:Calculating colour preference entropy...\n",
      "INFO:hnm_data_analysis.feature_engineering.customer_features:Calculating style consistency scores...\n",
      "INFO:hnm_data_analysis.feature_engineering.customer_features:Combining feature sets...\n",
      "INFO:hnm_data_analysis.feature_engineering.customer_features:Engineered features for 525075 customers\n",
      "INFO:hnm_data_analysis.feature_engineering.customer_features:Feature columns: ['customer_id', 'recency', 'frequency', 'monetary', 'purchase_diversity_score', 'price_sensitivity_index', 'colour_preference_entropy', 'style_consistency_score', 'features_created_at', 'rfm_reference_date']\n",
      "INFO:hnm_data_analysis.feature_engineering.customer_features:Features saved to: ../data/features/final/customer_features_final.parquet\n"
     ]
    },
    {
     "name": "stdout",
     "output_type": "stream",
     "text": [
      "\n",
      "✅ Feature engineering complete!\n",
      "Final features shape: (525075, 10)\n",
      "Features saved to: ../data/features/final/customer_features_final.parquet\n"
     ]
    }
   ],
   "source": [
    "# Engineer customer features\n",
    "print(\"🚀 Starting customer feature engineering...\")\n",
    "print(\"This may take several minutes for the full dataset.\\n\")\n",
    "\n",
    "# Create output directory\n",
    "output_dir = Path(\"../data/features/final\")\n",
    "output_dir.mkdir(parents=True, exist_ok=True)\n",
    "\n",
    "# Engineer features (this will handle all the complex calculations)\n",
    "customer_features = feature_engineer.engineer_customer_features(\n",
    "    output_path=\"../data/features/final/customer_features_final.parquet\"\n",
    ")\n",
    "\n",
    "print(f\"\\n✅ Feature engineering complete!\")\n",
    "print(f\"Final features shape: {customer_features.shape}\")\n",
    "print(f\"Features saved to: ../data/features/final/customer_features_final.parquet\")"
   ]
  },
  {
   "cell_type": "code",
   "execution_count": 8,
   "metadata": {},
   "outputs": [
    {
     "name": "stdout",
     "output_type": "stream",
     "text": [
      "📋 ENGINEERED CUSTOMER FEATURES\n",
      "Total customers: 525,075\n",
      "Total features: 10\n",
      "\n",
      "Feature columns:\n",
      " 1. customer_id\n",
      " 2. recency\n",
      " 3. frequency\n",
      " 4. monetary\n",
      " 5. purchase_diversity_score\n",
      " 6. price_sensitivity_index\n",
      " 7. colour_preference_entropy\n",
      " 8. style_consistency_score\n",
      " 9. features_created_at\n",
      "10. rfm_reference_date\n",
      "\n",
      "Sample of engineered features:\n"
     ]
    },
    {
     "data": {
      "text/html": [
       "<div><style>\n",
       ".dataframe > thead > tr,\n",
       ".dataframe > tbody > tr {\n",
       "  text-align: right;\n",
       "  white-space: pre-wrap;\n",
       "}\n",
       "</style>\n",
       "<small>shape: (5, 10)</small><table border=\"1\" class=\"dataframe\"><thead><tr><th>customer_id</th><th>recency</th><th>frequency</th><th>monetary</th><th>purchase_diversity_score</th><th>price_sensitivity_index</th><th>colour_preference_entropy</th><th>style_consistency_score</th><th>features_created_at</th><th>rfm_reference_date</th></tr><tr><td>str</td><td>i64</td><td>u32</td><td>f64</td><td>f64</td><td>f64</td><td>f64</td><td>f64</td><td>str</td><td>str</td></tr></thead><tbody><tr><td>&quot;438607b2b3aac3e702db0f5b3c4671…</td><td>24</td><td>6</td><td>112.07</td><td>1.792481</td><td>0.808535</td><td>1.792481</td><td>0.030276</td><td>&quot;2025-08-16T09:44:23.817002&quot;</td><td>&quot;2020-09-23&quot;</td></tr><tr><td>&quot;13233aed650830ba4a6334767848bb…</td><td>5</td><td>5</td><td>161.31</td><td>0.0</td><td>0.244477</td><td>1.370951</td><td>0.278072</td><td>&quot;2025-08-16T09:44:23.817002&quot;</td><td>&quot;2020-09-23&quot;</td></tr><tr><td>&quot;88962d49bd663778682892f9c49a64…</td><td>58</td><td>11</td><td>227.68</td><td>1.789929</td><td>0.592714</td><td>2.222192</td><td>0.05123</td><td>&quot;2025-08-16T09:44:23.817002&quot;</td><td>&quot;2020-09-23&quot;</td></tr><tr><td>&quot;2f30997f9a1988109eea3129327865…</td><td>32</td><td>1</td><td>29.99</td><td>0.0</td><td>0.0</td><td>0.0</td><td>1.0</td><td>&quot;2025-08-16T09:44:23.817002&quot;</td><td>&quot;2020-09-23&quot;</td></tr><tr><td>&quot;2428001c86ac0a9184048c0dad90cf…</td><td>62</td><td>7</td><td>109.4</td><td>0.0</td><td>0.734895</td><td>2.235926</td><td>1.0</td><td>&quot;2025-08-16T09:44:23.817002&quot;</td><td>&quot;2020-09-23&quot;</td></tr></tbody></table></div>"
      ],
      "text/plain": [
       "shape: (5, 10)\n",
       "┌─────────┬─────────┬─────────┬─────────┬─────────┬─────────┬─────────┬─────────┬─────────┬────────┐\n",
       "│ custome ┆ recency ┆ frequen ┆ monetar ┆ purchas ┆ price_s ┆ colour_ ┆ style_c ┆ feature ┆ rfm_re │\n",
       "│ r_id    ┆ ---     ┆ cy      ┆ y       ┆ e_diver ┆ ensitiv ┆ prefere ┆ onsiste ┆ s_creat ┆ ferenc │\n",
       "│ ---     ┆ i64     ┆ ---     ┆ ---     ┆ sity_sc ┆ ity_ind ┆ nce_ent ┆ ncy_sco ┆ ed_at   ┆ e_date │\n",
       "│ str     ┆         ┆ u32     ┆ f64     ┆ ore     ┆ ex      ┆ ropy    ┆ re      ┆ ---     ┆ ---    │\n",
       "│         ┆         ┆         ┆         ┆ ---     ┆ ---     ┆ ---     ┆ ---     ┆ str     ┆ str    │\n",
       "│         ┆         ┆         ┆         ┆ f64     ┆ f64     ┆ f64     ┆ f64     ┆         ┆        │\n",
       "╞═════════╪═════════╪═════════╪═════════╪═════════╪═════════╪═════════╪═════════╪═════════╪════════╡\n",
       "│ 438607b ┆ 24      ┆ 6       ┆ 112.07  ┆ 1.79248 ┆ 0.80853 ┆ 1.79248 ┆ 0.03027 ┆ 2025-08 ┆ 2020-0 │\n",
       "│ 2b3aac3 ┆         ┆         ┆         ┆ 1       ┆ 5       ┆ 1       ┆ 6       ┆ -16T09: ┆ 9-23   │\n",
       "│ e702db0 ┆         ┆         ┆         ┆         ┆         ┆         ┆         ┆ 44:23.8 ┆        │\n",
       "│ f5b3c46 ┆         ┆         ┆         ┆         ┆         ┆         ┆         ┆ 17002   ┆        │\n",
       "│ 71…     ┆         ┆         ┆         ┆         ┆         ┆         ┆         ┆         ┆        │\n",
       "│ 13233ae ┆ 5       ┆ 5       ┆ 161.31  ┆ 0.0     ┆ 0.24447 ┆ 1.37095 ┆ 0.27807 ┆ 2025-08 ┆ 2020-0 │\n",
       "│ d650830 ┆         ┆         ┆         ┆         ┆ 7       ┆ 1       ┆ 2       ┆ -16T09: ┆ 9-23   │\n",
       "│ ba4a633 ┆         ┆         ┆         ┆         ┆         ┆         ┆         ┆ 44:23.8 ┆        │\n",
       "│ 4767848 ┆         ┆         ┆         ┆         ┆         ┆         ┆         ┆ 17002   ┆        │\n",
       "│ bb…     ┆         ┆         ┆         ┆         ┆         ┆         ┆         ┆         ┆        │\n",
       "│ 88962d4 ┆ 58      ┆ 11      ┆ 227.68  ┆ 1.78992 ┆ 0.59271 ┆ 2.22219 ┆ 0.05123 ┆ 2025-08 ┆ 2020-0 │\n",
       "│ 9bd6637 ┆         ┆         ┆         ┆ 9       ┆ 4       ┆ 2       ┆         ┆ -16T09: ┆ 9-23   │\n",
       "│ 7868289 ┆         ┆         ┆         ┆         ┆         ┆         ┆         ┆ 44:23.8 ┆        │\n",
       "│ 2f9c49a ┆         ┆         ┆         ┆         ┆         ┆         ┆         ┆ 17002   ┆        │\n",
       "│ 64…     ┆         ┆         ┆         ┆         ┆         ┆         ┆         ┆         ┆        │\n",
       "│ 2f30997 ┆ 32      ┆ 1       ┆ 29.99   ┆ 0.0     ┆ 0.0     ┆ 0.0     ┆ 1.0     ┆ 2025-08 ┆ 2020-0 │\n",
       "│ f9a1988 ┆         ┆         ┆         ┆         ┆         ┆         ┆         ┆ -16T09: ┆ 9-23   │\n",
       "│ 109eea3 ┆         ┆         ┆         ┆         ┆         ┆         ┆         ┆ 44:23.8 ┆        │\n",
       "│ 1293278 ┆         ┆         ┆         ┆         ┆         ┆         ┆         ┆ 17002   ┆        │\n",
       "│ 65…     ┆         ┆         ┆         ┆         ┆         ┆         ┆         ┆         ┆        │\n",
       "│ 2428001 ┆ 62      ┆ 7       ┆ 109.4   ┆ 0.0     ┆ 0.73489 ┆ 2.23592 ┆ 1.0     ┆ 2025-08 ┆ 2020-0 │\n",
       "│ c86ac0a ┆         ┆         ┆         ┆         ┆ 5       ┆ 6       ┆         ┆ -16T09: ┆ 9-23   │\n",
       "│ 9184048 ┆         ┆         ┆         ┆         ┆         ┆         ┆         ┆ 44:23.8 ┆        │\n",
       "│ c0dad90 ┆         ┆         ┆         ┆         ┆         ┆         ┆         ┆ 17002   ┆        │\n",
       "│ cf…     ┆         ┆         ┆         ┆         ┆         ┆         ┆         ┆         ┆        │\n",
       "└─────────┴─────────┴─────────┴─────────┴─────────┴─────────┴─────────┴─────────┴─────────┴────────┘"
      ]
     },
     "execution_count": 8,
     "metadata": {},
     "output_type": "execute_result"
    }
   ],
   "source": [
    "# Display engineered features\n",
    "print(\"📋 ENGINEERED CUSTOMER FEATURES\")\n",
    "print(f\"Total customers: {customer_features.height:,}\")\n",
    "print(f\"Total features: {customer_features.width}\")\n",
    "print(f\"\\nFeature columns:\")\n",
    "for i, col in enumerate(customer_features.columns, 1):\n",
    "    print(f\"{i:2d}. {col}\")\n",
    "\n",
    "print(\"\\nSample of engineered features:\")\n",
    "customer_features.head(5)"
   ]
  },
  {
   "cell_type": "markdown",
   "metadata": {},
   "source": [
    "## 4. Feature Analysis and Validation\n",
    "\n",
    "Let's analyse the distribution and characteristics of our engineered features.\n"
   ]
  },
  {
   "cell_type": "code",
   "execution_count": 9,
   "metadata": {},
   "outputs": [
    {
     "name": "stderr",
     "output_type": "stream",
     "text": [
      "INFO:hnm_data_analysis.feature_engineering.customer_features:Generating feature summary statistics...\n"
     ]
    },
    {
     "name": "stdout",
     "output_type": "stream",
     "text": [
      "📊 GENERATING FEATURE SUMMARY STATISTICS...\n",
      "\n",
      "============================================================\n",
      "CUSTOMER FEATURE SUMMARY\n",
      "============================================================\n",
      "Total customers processed: 525,075\n",
      "Active customers (with purchases): 525,075\n",
      "Active customer rate: 100.0%\n",
      "Reference date for RFM: 2020-09-23\n",
      "\n",
      "📈 FEATURE STATISTICS:\n",
      "\n",
      "RECENCY:\n",
      "  Mean: 38.542\n",
      "  Median: 34.000\n",
      "  Std Dev: 26.833\n",
      "  Range: [1.000, 91.000]\n",
      "  Null Count: 0\n",
      "\n",
      "FREQUENCY:\n",
      "  Mean: 7.436\n",
      "  Median: 5.000\n",
      "  Std Dev: 9.059\n",
      "  Range: [1.000, 350.000]\n",
      "  Null Count: 0\n",
      "\n",
      "MONETARY:\n",
      "  Mean: 199.568\n",
      "  Median: 104.920\n",
      "  Std Dev: 300.545\n",
      "  Range: [2.390, 19342.120]\n",
      "  Null Count: 0\n",
      "\n",
      "PURCHASE_DIVERSITY_SCORE:\n",
      "  Mean: 0.956\n",
      "  Median: 1.000\n",
      "  Std Dev: 0.749\n",
      "  Range: [0.000, 3.140]\n",
      "  Null Count: 0\n",
      "\n",
      "PRICE_SENSITIVITY_INDEX:\n",
      "  Mean: 0.465\n",
      "  Median: 0.434\n",
      "  Std Dev: 0.364\n",
      "  Range: [0.000, 2.793]\n",
      "  Null Count: 0\n",
      "\n",
      "COLOUR_PREFERENCE_ENTROPY:\n",
      "  Mean: 1.445\n",
      "  Median: 1.500\n",
      "  Std Dev: 0.985\n",
      "  Range: [0.000, 4.747]\n",
      "  Null Count: 0\n",
      "\n",
      "STYLE_CONSISTENCY_SCORE:\n",
      "  Mean: 0.331\n",
      "  Median: 0.098\n",
      "  Std Dev: 0.410\n",
      "  Range: [0.000, 1.000]\n",
      "  Null Count: 0\n"
     ]
    }
   ],
   "source": [
    "# Generate feature summary\n",
    "print(\"📊 GENERATING FEATURE SUMMARY STATISTICS...\")\n",
    "\n",
    "feature_summary = feature_engineer.generate_feature_summary(customer_features)\n",
    "\n",
    "print(\"\\n\" + \"=\"*60)\n",
    "print(\"CUSTOMER FEATURE SUMMARY\")\n",
    "print(\"=\"*60)\n",
    "print(f\"Total customers processed: {feature_summary['total_customers']:,}\")\n",
    "print(f\"Active customers (with purchases): {feature_summary['active_customers']:,}\")\n",
    "print(f\"Active customer rate: {feature_summary['active_customer_rate']:.1%}\")\n",
    "print(f\"Reference date for RFM: {feature_summary['reference_date']}\")\n",
    "\n",
    "print(\"\\n📈 FEATURE STATISTICS:\")\n",
    "for feature_name, stats in feature_summary['feature_statistics'].items():\n",
    "    print(f\"\\n{feature_name.upper()}:\")\n",
    "    print(f\"  Mean: {stats['mean']:.3f}\")\n",
    "    print(f\"  Median: {stats['median']:.3f}\")\n",
    "    print(f\"  Std Dev: {stats['std']:.3f}\")\n",
    "    print(f\"  Range: [{stats['min']:.3f}, {stats['max']:.3f}]\")\n",
    "    print(f\"  Null Count: {stats['null_count']}\")"
   ]
  },
  {
   "cell_type": "code",
   "execution_count": 10,
   "metadata": {},
   "outputs": [
    {
     "name": "stdout",
     "output_type": "stream",
     "text": [
      "📊 FEATURE DISTRIBUTION ANALYSIS\n",
      "\n"
     ]
    },
    {
     "data": {
      "image/png": "[encoded data removed]",
      "text/plain": [
       "<Figure size 1500x1200 with 7 Axes>"
      ]
     },
     "metadata": {},
     "output_type": "display_data"
    },
    {
     "name": "stdout",
     "output_type": "stream",
     "text": [
      "\n",
      "✅ Distribution analysis complete!\n"
     ]
    }
   ],
   "source": [
    "# Feature distribution analysis\n",
    "print(\"📊 FEATURE DISTRIBUTION ANALYSIS\\n\")\n",
    "\n",
    "# Convert to pandas for easier visualization\n",
    "features_pd = customer_features.select([\n",
    "    'recency', 'frequency', 'monetary', 'purchase_diversity_score',\n",
    "    'price_sensitivity_index', 'colour_preference_entropy', 'style_consistency_score'\n",
    "]).to_pandas()\n",
    "\n",
    "# Create distribution plots\n",
    "fig, axes = plt.subplots(3, 3, figsize=(15, 12))\n",
    "fig.suptitle('Customer Feature Distributions', fontsize=16, fontweight='bold')\n",
    "\n",
    "features_to_plot = list(features_pd.columns)\n",
    "\n",
    "for i, feature in enumerate(features_to_plot):\n",
    "    row, col = divmod(i, 3)\n",
    "    \n",
    "    # Handle potential null values\n",
    "    data = features_pd[feature].dropna()\n",
    "    \n",
    "    axes[row, col].hist(data, bins=50, alpha=0.7, color='skyblue', edgecolor='black')\n",
    "    axes[row, col].set_title(f'{feature}', fontweight='bold')\n",
    "    axes[row, col].set_xlabel('Value')\n",
    "    axes[row, col].set_ylabel('Frequency')\n",
    "    axes[row, col].grid(True, alpha=0.3)\n",
    "    \n",
    "    # Add statistics text\n",
    "    mean_val = data.mean()\n",
    "    std_val = data.std()\n",
    "    axes[row, col].axvline(mean_val, color='red', linestyle='--', alpha=0.8, label=f'Mean: {mean_val:.2f}')\n",
    "    axes[row, col].legend()\n",
    "\n",
    "# Remove empty subplots\n",
    "for i in range(len(features_to_plot), 9):\n",
    "    row, col = divmod(i, 3)\n",
    "    axes[row, col].remove()\n",
    "\n",
    "plt.tight_layout()\n",
    "plt.show()\n",
    "\n",
    "print(\"\\n✅ Distribution analysis complete!\")"
   ]
  },
  {
   "cell_type": "code",
   "execution_count": 11,
   "metadata": {},
   "outputs": [
    {
     "name": "stdout",
     "output_type": "stream",
     "text": [
      "🎯 RFM ANALYSIS DEEP DIVE\n",
      "\n",
      "Active customers for RFM analysis: 525,075\n",
      "\n",
      "📊 RFM QUINTILE DISTRIBUTIONS:\n",
      "\n",
      "RECENCY_QUINTILE:\n",
      "  1-Recent: 110,246 customers (21.0%)\n",
      "  2: 100,019 customers (19.0%)\n",
      "  3: 108,286 customers (20.6%)\n",
      "  4: 102,090 customers (19.4%)\n",
      "  5-Distant: 104,434 customers (19.9%)\n",
      "\n",
      "FREQUENCY_QUINTILE:\n",
      "  1-Low: 145,106 customers (27.6%)\n",
      "  2: 111,912 customers (21.3%)\n",
      "  3: 73,909 customers (14.1%)\n",
      "  4: 98,751 customers (18.8%)\n",
      "  5-High: 95,397 customers (18.2%)\n",
      "\n",
      "MONETARY_QUINTILE:\n",
      "  1-Low: 106,222 customers (20.2%)\n",
      "  2: 103,808 customers (19.8%)\n",
      "  3: 105,015 customers (20.0%)\n",
      "  4: 105,016 customers (20.0%)\n",
      "  5-High: 105,014 customers (20.0%)\n"
     ]
    }
   ],
   "source": [
    "# RFM Analysis deep dive\n",
    "print(\"🎯 RFM ANALYSIS DEEP DIVE\\n\")\n",
    "\n",
    "# RFM statistics for active customers only\n",
    "active_customers = customer_features.filter(pl.col('frequency') > 0)\n",
    "print(f\"Active customers for RFM analysis: {active_customers.height:,}\")\n",
    "\n",
    "# RFM quintile analysis\n",
    "rfm_analysis = (\n",
    "    active_customers\n",
    "    .with_columns([\n",
    "        pl.col('recency').qcut(5, labels=['1-Recent', '2', '3', '4', '5-Distant']).alias('recency_quintile'),\n",
    "        pl.col('frequency').qcut(5, labels=['1-Low', '2', '3', '4', '5-High']).alias('frequency_quintile'),\n",
    "        pl.col('monetary').qcut(5, labels=['1-Low', '2', '3', '4', '5-High']).alias('monetary_quintile')\n",
    "    ])\n",
    ")\n",
    "\n",
    "print(\"\\n📊 RFM QUINTILE DISTRIBUTIONS:\")\n",
    "\n",
    "for dimension in ['recency_quintile', 'frequency_quintile', 'monetary_quintile']:\n",
    "    dist = rfm_analysis.group_by(dimension).len().sort(dimension)\n",
    "    print(f\"\\n{dimension.upper()}:\")\n",
    "    for row in dist.iter_rows():\n",
    "        quintile, count = row\n",
    "        pct = count / active_customers.height * 100\n",
    "        print(f\"  {quintile}: {count:,} customers ({pct:.1f}%)\")"
   ]
  },
  {
   "cell_type": "code",
   "execution_count": 12,
   "metadata": {},
   "outputs": [
    {
     "name": "stdout",
     "output_type": "stream",
     "text": [
      "🔍 ADVANCED FEATURE INSIGHTS\n",
      "\n",
      "Customer Activity Analysis:\n",
      "  Active customers: 525,075 (100.0%)\n",
      "  Inactive customers: 0 (0.0%)\n",
      "\n",
      "High-Value Customer Analysis (Top 10% by spend):\n",
      "  Threshold: £457.86\n",
      "  Count: 52,508 customers\n",
      "  Average characteristics:\n",
      "    avg_recency: 19.77\n",
      "    avg_frequency: 24.82\n",
      "    avg_monetary: 862.37\n",
      "    avg_diversity: 1.66\n",
      "    avg_colour_entropy: 2.60\n",
      "\n",
      "✅ Advanced insights analysis complete!\n"
     ]
    }
   ],
   "source": [
    "# Advanced feature insights\n",
    "print(\"🔍 ADVANCED FEATURE INSIGHTS\\n\")\n",
    "\n",
    "# Active vs inactive customer comparison\n",
    "inactive_customers = customer_features.filter(pl.col('frequency') == 0).height\n",
    "active_customers_count = customer_features.filter(pl.col('frequency') > 0).height\n",
    "\n",
    "print(f\"Customer Activity Analysis:\")\n",
    "print(f\"  Active customers: {active_customers_count:,} ({active_customers_count/customer_features.height:.1%})\")\n",
    "print(f\"  Inactive customers: {inactive_customers:,} ({inactive_customers/customer_features.height:.1%})\")\n",
    "\n",
    "# High-value customer identification\n",
    "if active_customers_count > 0:\n",
    "    high_value_threshold = active_customers.select(pl.col('monetary').quantile(0.9)).item()\n",
    "    high_value_customers = active_customers.filter(pl.col('monetary') >= high_value_threshold)\n",
    "    \n",
    "    print(f\"\\nHigh-Value Customer Analysis (Top 10% by spend):\")\n",
    "    print(f\"  Threshold: £{high_value_threshold:.2f}\")\n",
    "    print(f\"  Count: {high_value_customers.height:,} customers\")\n",
    "    \n",
    "    # High-value customer characteristics\n",
    "    hv_stats = high_value_customers.select([\n",
    "        pl.col('recency').mean().alias('avg_recency'),\n",
    "        pl.col('frequency').mean().alias('avg_frequency'),\n",
    "        pl.col('monetary').mean().alias('avg_monetary'),\n",
    "        pl.col('purchase_diversity_score').mean().alias('avg_diversity'),\n",
    "        pl.col('colour_preference_entropy').mean().alias('avg_colour_entropy')\n",
    "    ])\n",
    "    \n",
    "    print(f\"  Average characteristics:\")\n",
    "    for row in hv_stats.iter_rows(named=True):\n",
    "        for metric, value in row.items():\n",
    "            if value is not None:\n",
    "                print(f\"    {metric}: {value:.2f}\")\n",
    "\n",
    "print(\"\\n✅ Advanced insights analysis complete!\")"
   ]
  },
  {
   "cell_type": "markdown",
   "metadata": {},
   "source": [
    "## 5. Final Dataset Preparation\n",
    "\n",
    "Prepare the final customer dataset by combining original customer attributes with engineered features.\n"
   ]
  },
  {
   "cell_type": "code",
   "execution_count": 13,
   "metadata": {},
   "outputs": [
    {
     "name": "stdout",
     "output_type": "stream",
     "text": [
      "📦 CREATING FINAL CUSTOMER DATASET\n",
      "\n",
      "Original customers shape: (525075, 14)\n",
      "Engineered features shape: (525075, 10)\n",
      "Filtered out 7 boolean metadata columns\n",
      "Remaining customer attributes: 7\n",
      "\n",
      "Final merged dataset shape: (525075, 14)\n",
      "Total columns: 14\n",
      "\n",
      "Final dataset columns:\n",
      " 1. customer_id\n",
      " 2. FN\n",
      " 3. Active\n",
      " 4. club_member_status\n",
      " 5. fashion_news_frequency\n",
      " 6. age\n",
      " 7. postal_code\n",
      " 8. recency\n",
      " 9. frequency\n",
      "10. monetary\n",
      "11. purchase_diversity_score\n",
      "12. price_sensitivity_index\n",
      "13. colour_preference_entropy\n",
      "14. style_consistency_score\n",
      "15. dataset_created_at\n",
      "16. created_by\n"
     ]
    }
   ],
   "source": [
    "# Create final customer dataset\n",
    "print(\"📦 CREATING FINAL CUSTOMER DATASET\\n\")\n",
    "\n",
    "# Load original customer data\n",
    "original_customers = pl.read_parquet(customers_path)\n",
    "\n",
    "print(f\"Original customers shape: {original_customers.shape}\")\n",
    "print(f\"Engineered features shape: {customer_features.shape}\")\n",
    "\n",
    "# Filter out boolean metadata columns from original customers data\n",
    "customer_attributes = original_customers.select([\n",
    "    col for col in original_customers.columns \n",
    "    if not original_customers.schema[col] == pl.Boolean\n",
    "])\n",
    "\n",
    "print(f\"Filtered out {original_customers.width - customer_attributes.width} boolean metadata columns\")\n",
    "print(f\"Remaining customer attributes: {customer_attributes.width}\")\n",
    "\n",
    "# Merge filtered customer attributes with engineered features\n",
    "final_customer_dataset = (\n",
    "    customer_attributes\n",
    "    .join(\n",
    "        customer_features.drop(['features_created_at', 'rfm_reference_date']), \n",
    "        on='customer_id', \n",
    "        how='left'\n",
    "    )\n",
    ")\n",
    "\n",
    "print(f\"\\nFinal merged dataset shape: {final_customer_dataset.shape}\")\n",
    "print(f\"Total columns: {final_customer_dataset.width}\")\n",
    "\n",
    "# Add metadata columns\n",
    "from datetime import datetime\n",
    "final_customer_dataset = final_customer_dataset.with_columns([\n",
    "    pl.lit(datetime.now().isoformat()).alias('dataset_created_at'),\n",
    "    pl.lit('customer_feature_engineering.ipynb').alias('created_by')\n",
    "])\n",
    "\n",
    "print(f\"\\nFinal dataset columns:\")\n",
    "for i, col in enumerate(final_customer_dataset.columns, 1):\n",
    "    print(f\"{i:2d}. {col}\")"
   ]
  },
  {
   "cell_type": "code",
   "execution_count": 14,
   "metadata": {},
   "outputs": [
    {
     "name": "stdout",
     "output_type": "stream",
     "text": [
      "💾 Saving final customer dataset to: ../data/features/final/customers_features_final.parquet\n",
      "✅ Dataset saved successfully!\n",
      "   File size: 81.9 MB\n",
      "   Location: ../data/features/final/customers_features_final.parquet\n",
      "   Verification - Shape: (525075, 16)\n"
     ]
    }
   ],
   "source": [
    "# Save final customer dataset\n",
    "final_output_path = \"../data/features/final/customers_features_final.parquet\"\n",
    "\n",
    "print(f\"💾 Saving final customer dataset to: {final_output_path}\")\n",
    "\n",
    "# Ensure output directory exists\n",
    "Path(final_output_path).parent.mkdir(parents=True, exist_ok=True)\n",
    "\n",
    "# Save as Parquet\n",
    "final_customer_dataset.write_parquet(final_output_path)\n",
    "\n",
    "# Verify file was saved\n",
    "if Path(final_output_path).exists():\n",
    "    file_size = Path(final_output_path).stat().st_size / (1024*1024)  # MB\n",
    "    print(f\"✅ Dataset saved successfully!\")\n",
    "    print(f\"   File size: {file_size:.1f} MB\")\n",
    "    print(f\"   Location: {final_output_path}\")\n",
    "    \n",
    "    # Quick verification\n",
    "    verification_df = pl.read_parquet(final_output_path)\n",
    "    print(f\"   Verification - Shape: {verification_df.shape}\")\n",
    "else:\n",
    "    print(\"❌ Error: File was not saved successfully\")"
   ]
  },
  {
   "cell_type": "markdown",
   "metadata": {},
   "source": [
    "## 6. Data Report Generation\n",
    "\n",
    "Generate a report of the final customer features dataset using the project's data report generator.\n"
   ]
  },
  {
   "cell_type": "code",
   "execution_count": 15,
   "metadata": {},
   "outputs": [
    {
     "name": "stdout",
     "output_type": "stream",
     "text": [
      "📋 GENERATING DATA REPORT\n",
      "\n",
      "Report configuration:\n",
      "  Dataset: ../data/features/final/customers_features_final.parquet\n",
      "  Sample size: 50,000 (for performance)\n",
      "  Output directory: ../results/data_documentation/\n",
      "\n",
      "🚀 Starting report generation...\n",
      "This may take a few minutes for analysis...\n",
      "\n",
      "Data report generated successfully!\n",
      "Analysed file: ../data/features/final/customers_features_final.parquet\n",
      "Report saved to: /Users/tom/Data Analysis Projects/h_and_m_data_analysis/results/data_documentation/data_reports/customers_features_final_data_report.md\n",
      "\n",
      "✅ REPORT GENERATION COMPLETE!\n",
      "📄 Report saved to: ../results/data_documentation/\n"
     ]
    }
   ],
   "source": [
    "# Generate data report for the final customer dataset\n",
    "print(\"📋 GENERATING DATA REPORT\\n\")\n",
    "\n",
    "# Set up report parameters\n",
    "report_sample_size = 50000  # Use sampling for faster report generation if dataset is large\n",
    "\n",
    "print(f\"Report configuration:\")\n",
    "print(f\"  Dataset: {final_output_path}\")\n",
    "print(f\"  Sample size: {report_sample_size:,} (for performance)\")\n",
    "print(f\"  Output directory: ../results/data_documentation/\")\n",
    "\n",
    "print(\"\\n🚀 Starting report generation...\")\n",
    "print(\"This may take a few minutes for analysis...\\n\")\n",
    "\n",
    "try:\n",
    "    # Generate the report\n",
    "    generate_data_report(\n",
    "        file_path=final_output_path,\n",
    "        sample_size=report_sample_size\n",
    "    )\n",
    "    \n",
    "    print(\"\\n✅ REPORT GENERATION COMPLETE!\")\n",
    "    print(f\"📄 Report saved to: ../results/data_documentation/\")\n",
    "    \n",
    "except Exception as e:\n",
    "    print(f\"❌ Error generating report: {str(e)}\")\n",
    "    print(\"Please check that the data_report_generator module is working correctly.\")"
   ]
  },
  {
   "cell_type": "code",
   "execution_count": 16,
   "metadata": {},
   "outputs": [
    {
     "name": "stdout",
     "output_type": "stream",
     "text": [
      "📁 GENERATED REPORT FILES:\n",
      "  No specific customer features reports found.\n",
      "  Checking for any recent reports...\n"
     ]
    }
   ],
   "source": [
    "# List generated report files\n",
    "reports_dir = Path(\"../results/data_documentation\")\n",
    "\n",
    "if reports_dir.exists():\n",
    "    print(\"📁 GENERATED REPORT FILES:\")\n",
    "    report_files = list(reports_dir.glob(\"*customers_features_final*\"))\n",
    "    \n",
    "    if report_files:\n",
    "        for report_file in sorted(report_files):\n",
    "            file_size = report_file.stat().st_size / 1024  # KB\n",
    "            print(f\"  📄 {report_file.name} ({file_size:.1f} KB)\")\n",
    "    else:\n",
    "        print(\"  No specific customer features reports found.\")\n",
    "        print(\"  Checking for any recent reports...\")\n",
    "        all_reports = list(reports_dir.glob(\"*.md\"))\n",
    "        if all_reports:\n",
    "            latest_reports = sorted(all_reports, key=lambda x: x.stat().st_mtime, reverse=True)[:3]\n",
    "            print(\"  Latest reports:\")\n",
    "            for report in latest_reports:\n",
    "                print(f\"    📄 {report.name}\")\n",
    "else:\n",
    "    print(\"📁 Reports directory not found. Report may not have been generated successfully.\")"
   ]
  },
  {
   "cell_type": "markdown",
   "metadata": {},
   "source": [
    "## 7. Business Insights and Summary\n",
    "\n",
    "Summarise key findings and business insights from the customer feature engineering process.\n"
   ]
  },
  {
   "cell_type": "code",
   "execution_count": 17,
   "metadata": {},
   "outputs": [
    {
     "name": "stdout",
     "output_type": "stream",
     "text": [
      "🎯 CUSTOMER FEATURE ENGINEERING SUMMARY\n",
      "============================================================\n",
      "\n",
      "📊 DATASET SUMMARY:\n",
      "  Total customers processed: 525,075\n",
      "  Total features: 16\n",
      "  Original customer attributes (excl. boolean metadata): 7\n",
      "  New engineered features: 7\n",
      "  Final dataset size: 81.9 MB\n",
      "\n",
      "🔧 ENGINEERED FEATURES:\n",
      "  ✓ RFM Analysis: recency, frequency, monetary\n",
      "  ✓ Purchase Diversity: variety in product categories\n",
      "  ✓ Price Sensitivity: consistency in price points\n",
      "  ✓ Colour Preference: diversity in colour choices\n",
      "  ✓ Style Consistency: coherence in garment preferences\n",
      "\n",
      "📈 KEY INSIGHTS:\n",
      "  • Customer Activity: 100.0% of customers made purchases\n",
      "  • Data Quality: Feature coverage with proper null handling\n",
      "  • Segmentation Ready: Features suitable for clustering and segmentation\n",
      "  • Business Applications: RFM analysis, personalisation, churn prediction\n",
      "\n",
      "🚀 RECOMMENDED NEXT STEPS:\n",
      "  1. Customer Segmentation: Use features for K-means or hierarchical clustering\n",
      "  2. Predictive Modelling: Build models for customer lifetime value, churn\n",
      "  3. Personalisation: Leverage diversity and preference scores for recommendations\n",
      "  4. A/B Testing: Use customer segments for targeted marketing campaigns\n",
      "\n",
      "📁 OUTPUT FILES:\n",
      "  • Final dataset: ../data/features/final/customers_features_final.parquet\n",
      "  • Feature-only dataset: ../data/features/final/customer_features_final.parquet\n",
      "  • Data report: ../results/data_documentation/\n",
      "\n",
      "✅ CUSTOMER FEATURE ENGINEERING COMPLETE!\n",
      "   Ready for advanced customer analytics and segmentation.\n",
      "============================================================\n"
     ]
    }
   ],
   "source": [
    "# Final summary and business insights\n",
    "print(\"🎯 CUSTOMER FEATURE ENGINEERING SUMMARY\")\n",
    "print(\"=\"*60)\n",
    "\n",
    "# Dataset summary\n",
    "print(f\"\\n📊 DATASET SUMMARY:\")\n",
    "print(f\"  Total customers processed: {final_customer_dataset.height:,}\")\n",
    "print(f\"  Total features: {final_customer_dataset.width}\")\n",
    "print(f\"  Original customer attributes (excl. boolean metadata): {customer_attributes.width}\")\n",
    "print(f\"  New engineered features: {customer_features.width - 3}\")\n",
    "print(f\"  Final dataset size: {Path(final_output_path).stat().st_size / (1024*1024):.1f} MB\")\n",
    "\n",
    "# Feature categories summary\n",
    "print(f\"\\n🔧 ENGINEERED FEATURES:\")\n",
    "print(f\"  ✓ RFM Analysis: recency, frequency, monetary\")\n",
    "print(f\"  ✓ Purchase Diversity: variety in product categories\")\n",
    "print(f\"  ✓ Price Sensitivity: consistency in price points\")\n",
    "print(f\"  ✓ Colour Preference: diversity in colour choices\")\n",
    "print(f\"  ✓ Style Consistency: coherence in garment preferences\")\n",
    "\n",
    "# Key business insights\n",
    "active_rate = feature_summary['active_customer_rate']\n",
    "print(f\"\\n📈 KEY INSIGHTS:\")\n",
    "print(f\"  • Customer Activity: {active_rate:.1%} of customers made purchases\")\n",
    "print(f\"  • Data Quality: Feature coverage with proper null handling\")\n",
    "print(f\"  • Segmentation Ready: Features suitable for clustering and segmentation\")\n",
    "print(f\"  • Business Applications: RFM analysis, personalisation, churn prediction\")\n",
    "\n",
    "# Next steps\n",
    "print(f\"\\n🚀 RECOMMENDED NEXT STEPS:\")\n",
    "print(f\"  1. Customer Segmentation: Use features for K-means or hierarchical clustering\")\n",
    "print(f\"  2. Predictive Modelling: Build models for customer lifetime value, churn\")\n",
    "print(f\"  3. Personalisation: Leverage diversity and preference scores for recommendations\")\n",
    "print(f\"  4. A/B Testing: Use customer segments for targeted marketing campaigns\")\n",
    "\n",
    "# File locations\n",
    "print(f\"\\n📁 OUTPUT FILES:\")\n",
    "print(f\"  • Final dataset: {final_output_path}\")\n",
    "print(f\"  • Feature-only dataset: ../data/features/final/customer_features_final.parquet\")\n",
    "print(f\"  • Data report: ../results/data_documentation/\")\n",
    "\n",
    "print(f\"\\n✅ CUSTOMER FEATURE ENGINEERING COMPLETE!\")\n",
    "print(f\"   Ready for advanced customer analytics and segmentation.\")\n",
    "print(\"=\"*60)"
   ]
  },
  {
   "cell_type": "code",
   "execution_count": 18,
   "metadata": {},
   "outputs": [
    {
     "name": "stdout",
     "output_type": "stream",
     "text": [
      "🔍 FINAL DATA QUALITY VERIFICATION\n",
      "\n",
      "Data Quality Metrics:\n",
      "  total_rows: 525,075\n",
      "  unique_customers: 525,075\n",
      "  null_customer_ids: 0\n",
      "  null_recency: 0\n",
      "  null_frequency: 0\n",
      "  null_monetary: 0\n",
      "\n",
      "✅ Data quality check PASSED: All customer IDs are unique\n",
      "\n",
      "🎉 Customer feature engineering pipeline completed successfully!\n"
     ]
    }
   ],
   "source": [
    "# Final data quality check\n",
    "print(\"🔍 FINAL DATA QUALITY VERIFICATION\\n\")\n",
    "\n",
    "# Check for any data quality issues\n",
    "quality_check = final_customer_dataset.select([\n",
    "    pl.len().alias('total_rows'),\n",
    "    pl.col('customer_id').n_unique().alias('unique_customers'),\n",
    "    pl.col('customer_id').null_count().alias('null_customer_ids'),\n",
    "    pl.col('recency').null_count().alias('null_recency'),\n",
    "    pl.col('frequency').null_count().alias('null_frequency'),\n",
    "    pl.col('monetary').null_count().alias('null_monetary')\n",
    "])\n",
    "\n",
    "print(\"Data Quality Metrics:\")\n",
    "for metric in quality_check.iter_rows(named=True):\n",
    "    for key, value in metric.items():\n",
    "        print(f\"  {key}: {value:,}\")\n",
    "\n",
    "# Verify uniqueness\n",
    "total_rows = quality_check.select('total_rows').item()\n",
    "unique_customers = quality_check.select('unique_customers').item()\n",
    "\n",
    "if total_rows == unique_customers:\n",
    "    print(\"\\n✅ Data quality check PASSED: All customer IDs are unique\")\n",
    "else:\n",
    "    print(f\"\\n⚠️  Warning: {total_rows - unique_customers} duplicate customer IDs found\")\n",
    "\n",
    "print(\"\\n🎉 Customer feature engineering pipeline completed successfully!\")"
   ]
  }
 ],
 "metadata": {
  "kernelspec": {
   "display_name": ".venv",
   "language": "python",
   "name": "python3"
  },
  "language_info": {
   "codemirror_mode": {
    "name": "ipython",
    "version": 3
   },
   "file_extension": ".py",
   "mimetype": "text/x-python",
   "name": "python",
   "nbconvert_exporter": "python",
   "pygments_lexer": "ipython3",
   "version": "3.11.4"
  }
 },
 "nbformat": 4,
 "nbformat_minor": 4
}
