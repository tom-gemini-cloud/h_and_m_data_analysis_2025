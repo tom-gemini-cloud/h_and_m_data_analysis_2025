{
 "cells": [
  {
   "cell_type": "markdown",
   "metadata": {},
   "source": [
    "# H&M Article Features - Exploratory Data Analysis\n",
    "\n",
    "This notebook performs comprehensive EDA on the engineered article features dataset to understand:\n",
    "\n",
    "- Product catalogue characteristics and diversity\n",
    "- Feature engineering quality and distributions\n",
    "- Product category patterns and relationships\n",
    "- Text-based feature insights (BERT/TF-IDF embeddings)\n",
    "- Product performance indicators and clustering opportunities\n"
   ]
  },
  {
   "cell_type": "markdown",
   "metadata": {},
   "source": [
    "## 1. Setup and Data Loading\n"
   ]
  },
  {
   "cell_type": "code",
   "execution_count": 1,
   "metadata": {},
   "outputs": [
    {
     "name": "stdout",
     "output_type": "stream",
     "text": [
      "✅ EDA module imported successfully\n",
      "📦 Libraries imported successfully\n"
     ]
    }
   ],
   "source": [
    "# Import required libraries\n",
    "import polars as pl\n",
    "import pandas as pd\n",
    "import numpy as np\n",
    "import matplotlib.pyplot as plt\n",
    "import seaborn as sns\n",
    "from pathlib import Path\n",
    "import warnings\n",
    "from datetime import datetime\n",
    "import plotly.express as px\n",
    "import plotly.graph_objects as go\n",
    "from plotly.subplots import make_subplots\n",
    "from sklearn.preprocessing import StandardScaler\n",
    "from sklearn.cluster import KMeans\n",
    "from sklearn.decomposition import PCA, TruncatedSVD\n",
    "from sklearn.manifold import TSNE\n",
    "from sklearn.metrics import silhouette_score\n",
    "from scipy import stats\n",
    "from collections import Counter\n",
    "\n",
    "# Add project root to path\n",
    "import sys\n",
    "project_root = Path.cwd().parent.parent  # Go up two levels from notebooks/eda_notebooks/\n",
    "sys.path.append(str(project_root))\n",
    "\n",
    "try:\n",
    "    from hnm_data_analysis.exploratory_data_analysis.eda_module import EDAModule\n",
    "    print(\"✅ EDA module imported successfully\")\n",
    "except ImportError as e:\n",
    "    print(f\"⚠️ Could not import EDA module: {e}\")\n",
    "    print(\"Continuing without EDA module...\")\n",
    "\n",
    "# Configure plotting for UK publication standards\n",
    "plt.style.use('seaborn-v0_8')\n",
    "sns.set_palette('viridis')\n",
    "plt.rcParams['figure.figsize'] = (12, 6)\n",
    "plt.rcParams['figure.dpi'] = 100\n",
    "plt.rcParams['font.family'] = 'DejaVu Sans'\n",
    "warnings.filterwarnings('ignore')\n",
    "\n",
    "print(\"📦 Libraries imported successfully\")"
   ]
  },
  {
   "cell_type": "code",
   "execution_count": 2,
   "metadata": {},
   "outputs": [
    {
     "name": "stdout",
     "output_type": "stream",
     "text": [
      "Loading article features data from: ../../data/features/final/articles_features_final.parquet\n",
      "✅ Data loaded successfully: 42,298 articles × 14 features\n",
      "Memory usage: 2.4 MB\n"
     ]
    }
   ],
   "source": [
    "# Load article features data\n",
    "data_path = \"../../data/features/final/articles_features_final.parquet\"\n",
    "print(f\"Loading article features data from: {data_path}\")\n",
    "\n",
    "try:\n",
    "    df = pl.read_parquet(data_path)\n",
    "    print(f\"✅ Data loaded successfully: {df.shape[0]:,} articles × {df.shape[1]} features\")\n",
    "    print(f\"Memory usage: {df.estimated_size('mb'):.1f} MB\")\n",
    "except Exception as e:\n",
    "    print(f\"❌ Error loading data: {e}\")\n",
    "    raise"
   ]
  },
  {
   "cell_type": "markdown",
   "metadata": {},
   "source": [
    "## 2. Dataset Structure and Quality Assessment\n"
   ]
  },
  {
   "cell_type": "code",
   "execution_count": 3,
   "metadata": {},
   "outputs": [
    {
     "name": "stdout",
     "output_type": "stream",
     "text": [
      "📊 Article Features Dataset Overview\n",
      "==================================================\n",
      "Shape: (42298, 14)\n",
      "Total articles: 42,298\n",
      "Total features: 14\n",
      "Column names: ['article_id', 'product_type_name', 'product_group_name', 'graphical_appearance_name', 'colour_group_name', 'perceived_colour_value_name', 'perceived_colour_master_name', 'department_name', 'index_name', 'index_group_name', 'section_name', 'garment_group_name', 'detail_desc', 'bert_cluster']\n",
      "Data types: {'article_id': 'Int64', 'product_type_name': 'Categorical(Categories(\"\"))', 'product_group_name': 'Categorical(Categories(\"\"))', 'graphical_appearance_name': 'Categorical(Categories(\"\"))', 'colour_group_name': 'Categorical(Categories(\"\"))', 'perceived_colour_value_name': 'Categorical(Categories(\"\"))', 'perceived_colour_master_name': 'Categorical(Categories(\"\"))', 'department_name': 'Categorical(Categories(\"\"))', 'index_name': 'Categorical(Categories(\"\"))', 'index_group_name': 'Categorical(Categories(\"\"))', 'section_name': 'Categorical(Categories(\"\"))', 'garment_group_name': 'Categorical(Categories(\"\"))', 'detail_desc': 'Categorical(Categories(\"\"))', 'bert_cluster': 'Int32'}\n",
      "\n",
      "🏷️ Feature Categories:\n",
      "• Categorical features: 11 - ['product_type_name', 'product_group_name', 'graphical_appearance_name', 'colour_group_name', 'perceived_colour_value_name', 'perceived_colour_master_name', 'department_name', 'index_name', 'index_group_name', 'section_name', 'garment_group_name']\n",
      "• Numeric features: 2\n",
      "• Text embedding features: 1\n",
      "\n",
      "🔍 Sample Article Features:\n"
     ]
    },
    {
     "data": {
      "text/html": [
       "<div><style>\n",
       ".dataframe > thead > tr,\n",
       ".dataframe > tbody > tr {\n",
       "  text-align: right;\n",
       "  white-space: pre-wrap;\n",
       "}\n",
       "</style>\n",
       "<small>shape: (5, 14)</small><table border=\"1\" class=\"dataframe\"><thead><tr><th>article_id</th><th>product_type_name</th><th>product_group_name</th><th>graphical_appearance_name</th><th>colour_group_name</th><th>perceived_colour_value_name</th><th>perceived_colour_master_name</th><th>department_name</th><th>index_name</th><th>index_group_name</th><th>section_name</th><th>garment_group_name</th><th>detail_desc</th><th>bert_cluster</th></tr><tr><td>i64</td><td>cat</td><td>cat</td><td>cat</td><td>cat</td><td>cat</td><td>cat</td><td>cat</td><td>cat</td><td>cat</td><td>cat</td><td>cat</td><td>cat</td><td>i32</td></tr></thead><tbody><tr><td>816591001</td><td>&quot;T-shirt&quot;</td><td>&quot;Garment Upper body&quot;</td><td>&quot;Stripe&quot;</td><td>&quot;Dark Blue&quot;</td><td>&quot;Dark&quot;</td><td>&quot;Blue&quot;</td><td>&quot;Tops Fancy Jersey&quot;</td><td>&quot;Divided&quot;</td><td>&quot;Divided&quot;</td><td>&quot;Divided Collection&quot;</td><td>&quot;Jersey Fancy&quot;</td><td>&quot;T-shirt in soft cotton jersey …</td><td>22</td></tr><tr><td>804472003</td><td>&quot;Sneakers&quot;</td><td>&quot;Shoes&quot;</td><td>&quot;Solid&quot;</td><td>&quot;Black&quot;</td><td>&quot;Dark&quot;</td><td>&quot;Black&quot;</td><td>&quot;Kids Boy Shoes&quot;</td><td>&quot;Children Accessories, Swimwear&quot;</td><td>&quot;Baby/Children&quot;</td><td>&quot;Kids &amp; Baby Shoes&quot;</td><td>&quot;Shoes&quot;</td><td>&quot;Hi-tops in patterned imitation…</td><td>27</td></tr><tr><td>693915001</td><td>&quot;Trousers&quot;</td><td>&quot;Garment Lower body&quot;</td><td>&quot;Check&quot;</td><td>&quot;Beige&quot;</td><td>&quot;Medium Dusty&quot;</td><td>&quot;Beige&quot;</td><td>&quot;Trousers &amp; Skirt&quot;</td><td>&quot;Ladieswear&quot;</td><td>&quot;Ladieswear&quot;</td><td>&quot;Womens Trend&quot;</td><td>&quot;Trousers&quot;</td><td>&quot;Trousers in woven fabric with …</td><td>9</td></tr><tr><td>790904007</td><td>&quot;Trousers&quot;</td><td>&quot;Garment Lower body&quot;</td><td>&quot;Solid&quot;</td><td>&quot;Beige&quot;</td><td>&quot;Medium Dusty&quot;</td><td>&quot;Beige&quot;</td><td>&quot;Trouser&quot;</td><td>&quot;Menswear&quot;</td><td>&quot;Menswear&quot;</td><td>&quot;Contemporary Casual&quot;</td><td>&quot;Trousers&quot;</td><td>&quot;Trousers in a cotton weave wit…</td><td>9</td></tr><tr><td>829618001</td><td>&quot;Bra&quot;</td><td>&quot;Underwear&quot;</td><td>&quot;Solid&quot;</td><td>&quot;White&quot;</td><td>&quot;Light&quot;</td><td>&quot;White&quot;</td><td>&quot;Expressive Lingerie&quot;</td><td>&quot;Lingeries/Tights&quot;</td><td>&quot;Ladieswear&quot;</td><td>&quot;Womens Lingerie&quot;</td><td>&quot;Under-, Nightwear&quot;</td><td>&quot;Push-up bra in lace with under…</td><td>15</td></tr></tbody></table></div>"
      ],
      "text/plain": [
       "shape: (5, 14)\n",
       "┌───────────┬───────────┬───────────┬───────────┬───┬───────────┬───────────┬───────────┬──────────┐\n",
       "│ article_i ┆ product_t ┆ product_g ┆ graphical ┆ … ┆ section_n ┆ garment_g ┆ detail_de ┆ bert_clu │\n",
       "│ d         ┆ ype_name  ┆ roup_name ┆ _appearan ┆   ┆ ame       ┆ roup_name ┆ sc        ┆ ster     │\n",
       "│ ---       ┆ ---       ┆ ---       ┆ ce_name   ┆   ┆ ---       ┆ ---       ┆ ---       ┆ ---      │\n",
       "│ i64       ┆ cat       ┆ cat       ┆ ---       ┆   ┆ cat       ┆ cat       ┆ cat       ┆ i32      │\n",
       "│           ┆           ┆           ┆ cat       ┆   ┆           ┆           ┆           ┆          │\n",
       "╞═══════════╪═══════════╪═══════════╪═══════════╪═══╪═══════════╪═══════════╪═══════════╪══════════╡\n",
       "│ 816591001 ┆ T-shirt   ┆ Garment   ┆ Stripe    ┆ … ┆ Divided   ┆ Jersey    ┆ T-shirt   ┆ 22       │\n",
       "│           ┆           ┆ Upper     ┆           ┆   ┆ Collectio ┆ Fancy     ┆ in soft   ┆          │\n",
       "│           ┆           ┆ body      ┆           ┆   ┆ n         ┆           ┆ cotton    ┆          │\n",
       "│           ┆           ┆           ┆           ┆   ┆           ┆           ┆ jersey …  ┆          │\n",
       "│ 804472003 ┆ Sneakers  ┆ Shoes     ┆ Solid     ┆ … ┆ Kids &    ┆ Shoes     ┆ Hi-tops   ┆ 27       │\n",
       "│           ┆           ┆           ┆           ┆   ┆ Baby      ┆           ┆ in        ┆          │\n",
       "│           ┆           ┆           ┆           ┆   ┆ Shoes     ┆           ┆ patterned ┆          │\n",
       "│           ┆           ┆           ┆           ┆   ┆           ┆           ┆ imitation ┆          │\n",
       "│           ┆           ┆           ┆           ┆   ┆           ┆           ┆ …         ┆          │\n",
       "│ 693915001 ┆ Trousers  ┆ Garment   ┆ Check     ┆ … ┆ Womens    ┆ Trousers  ┆ Trousers  ┆ 9        │\n",
       "│           ┆           ┆ Lower     ┆           ┆   ┆ Trend     ┆           ┆ in woven  ┆          │\n",
       "│           ┆           ┆ body      ┆           ┆   ┆           ┆           ┆ fabric    ┆          │\n",
       "│           ┆           ┆           ┆           ┆   ┆           ┆           ┆ with …    ┆          │\n",
       "│ 790904007 ┆ Trousers  ┆ Garment   ┆ Solid     ┆ … ┆ Contempor ┆ Trousers  ┆ Trousers  ┆ 9        │\n",
       "│           ┆           ┆ Lower     ┆           ┆   ┆ ary       ┆           ┆ in a      ┆          │\n",
       "│           ┆           ┆ body      ┆           ┆   ┆ Casual    ┆           ┆ cotton    ┆          │\n",
       "│           ┆           ┆           ┆           ┆   ┆           ┆           ┆ weave     ┆          │\n",
       "│           ┆           ┆           ┆           ┆   ┆           ┆           ┆ wit…      ┆          │\n",
       "│ 829618001 ┆ Bra       ┆ Underwear ┆ Solid     ┆ … ┆ Womens    ┆ Under-,   ┆ Push-up   ┆ 15       │\n",
       "│           ┆           ┆           ┆           ┆   ┆ Lingerie  ┆ Nightwear ┆ bra in    ┆          │\n",
       "│           ┆           ┆           ┆           ┆   ┆           ┆           ┆ lace with ┆          │\n",
       "│           ┆           ┆           ┆           ┆   ┆           ┆           ┆ under…    ┆          │\n",
       "└───────────┴───────────┴───────────┴───────────┴───┴───────────┴───────────┴───────────┴──────────┘"
      ]
     },
     "execution_count": 3,
     "metadata": {},
     "output_type": "execute_result"
    }
   ],
   "source": [
    "# Comprehensive dataset overview\n",
    "print(\"📊 Article Features Dataset Overview\")\n",
    "print(\"=\" * 50)\n",
    "print(f\"Shape: {df.shape}\")\n",
    "print(f\"Total articles: {df.height:,}\")\n",
    "print(f\"Total features: {df.width}\")\n",
    "print(f\"Column names: {list(df.columns)}\")\n",
    "print(f\"Data types: {dict(zip(df.columns, [str(dtype) for dtype in df.dtypes]))}\")\n",
    "\n",
    "# Identify feature categories\n",
    "categorical_features = [col for col in df.columns if 'name' in col.lower() or 'group' in col.lower()]\n",
    "numeric_features = df.select(pl.col(pl.NUMERIC_DTYPES)).columns\n",
    "text_embedding_features = [col for col in df.columns if any(prefix in col for prefix in ['bert_', 'tfidf_', 'svd_', 'pca_'])]\n",
    "\n",
    "print(f\"\\n🏷️ Feature Categories:\")\n",
    "print(f\"• Categorical features: {len(categorical_features)} - {categorical_features}\")\n",
    "print(f\"• Numeric features: {len(numeric_features)}\")\n",
    "print(f\"• Text embedding features: {len(text_embedding_features)}\")\n",
    "\n",
    "# Display sample data\n",
    "print(\"\\n🔍 Sample Article Features:\")\n",
    "df.head()"
   ]
  },
  {
   "cell_type": "code",
   "execution_count": 4,
   "metadata": {},
   "outputs": [
    {
     "name": "stdout",
     "output_type": "stream",
     "text": [
      "🔍 Data Quality Assessment\n",
      "========================================\n",
      "                     Feature  Missing Count Missing %  Unique Values Uniqueness %\n",
      "                  article_id              0     0.00%          42298       100.0%\n",
      "           product_type_name              0     0.00%            124         0.3%\n",
      "          product_group_name              0     0.00%             18         0.0%\n",
      "   graphical_appearance_name              0     0.00%             30         0.1%\n",
      "           colour_group_name              0     0.00%             50         0.1%\n",
      " perceived_colour_value_name              0     0.00%              8         0.0%\n",
      "perceived_colour_master_name              0     0.00%             20         0.0%\n",
      "             department_name              0     0.00%            238         0.6%\n",
      "                  index_name              0     0.00%             10         0.0%\n",
      "            index_group_name              0     0.00%              5         0.0%\n",
      "                section_name              0     0.00%             56         0.1%\n",
      "          garment_group_name              0     0.00%             21         0.0%\n",
      "                 detail_desc              0     0.00%          19739        46.7%\n",
      "                bert_cluster             69     0.16%             33         0.1%\n",
      "\n",
      "🔄 Duplicate article records: 0\n",
      "📋 Complete feature records: 42,229 (99.8%)\n"
     ]
    }
   ],
   "source": [
    "# Data quality assessment\n",
    "print(\"🔍 Data Quality Assessment\")\n",
    "print(\"=\" * 40)\n",
    "\n",
    "# Missing values analysis\n",
    "quality_summary = []\n",
    "for col in df.columns:\n",
    "    null_count = df.select(pl.col(col).null_count()).item()\n",
    "    null_pct = (null_count / df.height) * 100\n",
    "    \n",
    "    # Additional quality checks\n",
    "    unique_count = df.select(pl.col(col).n_unique()).item()\n",
    "    uniqueness_pct = (unique_count / df.height) * 100\n",
    "    \n",
    "    quality_summary.append({\n",
    "        'Feature': col,\n",
    "        'Missing Count': null_count,\n",
    "        'Missing %': f\"{null_pct:.2f}%\",\n",
    "        'Unique Values': unique_count,\n",
    "        'Uniqueness %': f\"{uniqueness_pct:.1f}%\"\n",
    "    })\n",
    "\n",
    "quality_df = pd.DataFrame(quality_summary)\n",
    "print(quality_df.to_string(index=False))\n",
    "\n",
    "# Check for duplicates\n",
    "duplicate_count = df.height - df.n_unique()\n",
    "print(f\"\\n🔄 Duplicate article records: {duplicate_count:,}\")\n",
    "\n",
    "# Feature completeness\n",
    "complete_records = df.filter(pl.all_horizontal(pl.all().is_not_null())).height\n",
    "completeness_rate = (complete_records / df.height) * 100\n",
    "print(f\"📋 Complete feature records: {complete_records:,} ({completeness_rate:.1f}%)\")"
   ]
  },
  {
   "cell_type": "markdown",
   "metadata": {},
   "source": [
    "## 3. Categorical Features Analysis\n"
   ]
  },
  {
   "cell_type": "code",
   "execution_count": 5,
   "metadata": {},
   "outputs": [
    {
     "name": "stdout",
     "output_type": "stream",
     "text": [
      "🏷️ Categorical Features Analysis\n",
      "\n",
      "📊 PRODUCT_TYPE_NAME:\n",
      "  Total unique values: 124\n",
      "  Top 10 categories:\n",
      "    Dress: 4,863 (11.5%)\n",
      "    Trousers: 4,787 (11.3%)\n",
      "    Sweater: 2,821 (6.7%)\n",
      "    T-shirt: 2,686 (6.4%)\n",
      "    Top: 1,826 (4.3%)\n",
      "    Blouse: 1,775 (4.2%)\n",
      "    Shorts: 1,774 (4.2%)\n",
      "    Vest top: 1,412 (3.3%)\n",
      "    Jacket: 1,363 (3.2%)\n",
      "    Skirt: 1,310 (3.1%)\n",
      "\n",
      "📊 PRODUCT_GROUP_NAME:\n",
      "  Total unique values: 18\n",
      "  Top 10 categories:\n",
      "    Garment Upper body: 15,635 (37.0%)\n",
      "    Garment Lower body: 8,596 (20.3%)\n",
      "    Garment Full body: 5,796 (13.7%)\n",
      "    Accessories: 4,179 (9.9%)\n",
      "    Underwear: 2,503 (5.9%)\n",
      "    Shoes: 1,947 (4.6%)\n",
      "    Swimwear: 1,820 (4.3%)\n",
      "    Socks & Tights: 1,005 (2.4%)\n",
      "    Nightwear: 631 (1.5%)\n",
      "    Unknown: 111 (0.3%)\n",
      "\n",
      "📊 GRAPHICAL_APPEARANCE_NAME:\n",
      "  Total unique values: 30\n",
      "  Top 10 categories:\n",
      "    Solid: 21,928 (51.8%)\n",
      "    All over pattern: 6,351 (15.0%)\n",
      "    Denim: 2,569 (6.1%)\n",
      "    Melange: 2,161 (5.1%)\n",
      "    Stripe: 1,660 (3.9%)\n",
      "    Placement print: 878 (2.1%)\n",
      "    Check: 878 (2.1%)\n",
      "    Front print: 785 (1.9%)\n",
      "    Other structure: 739 (1.7%)\n",
      "    Lace: 557 (1.3%)\n",
      "\n",
      "📊 COLOUR_GROUP_NAME:\n",
      "  Total unique values: 50\n",
      "  Top 10 categories:\n",
      "    Black: 10,053 (23.8%)\n",
      "    White: 4,115 (9.7%)\n",
      "    Dark Blue: 3,696 (8.7%)\n",
      "    Light Pink: 1,998 (4.7%)\n",
      "    Light Beige: 1,682 (4.0%)\n",
      "    Beige: 1,540 (3.6%)\n",
      "    Blue: 1,383 (3.3%)\n",
      "    Grey: 1,359 (3.2%)\n",
      "    Off White: 1,296 (3.1%)\n",
      "    Light Blue: 1,247 (2.9%)\n",
      "\n",
      "📊 PERCEIVED_COLOUR_VALUE_NAME:\n",
      "  Total unique values: 8\n",
      "  Top 10 categories:\n",
      "    Dark: 16,807 (39.7%)\n",
      "    Dusty Light: 9,135 (21.6%)\n",
      "    Light: 6,424 (15.2%)\n",
      "    Medium Dusty: 5,777 (13.7%)\n",
      "    Bright: 2,373 (5.6%)\n",
      "    Medium: 1,748 (4.1%)\n",
      "    Undefined: 29 (0.1%)\n",
      "    Unknown: 5 (0.0%)\n",
      "\n",
      "📊 PERCEIVED_COLOUR_MASTER_NAME:\n",
      "  Total unique values: 20\n",
      "  Top 10 categories:\n",
      "    Black: 10,050 (23.8%)\n",
      "    Blue: 6,343 (15.0%)\n",
      "    White: 5,542 (13.1%)\n",
      "    Pink: 3,474 (8.2%)\n",
      "    Beige: 2,972 (7.0%)\n",
      "    Grey: 2,892 (6.8%)\n",
      "    Red: 1,635 (3.9%)\n",
      "    Khaki green: 1,374 (3.2%)\n",
      "    Green: 1,339 (3.2%)\n",
      "    Yellow: 1,280 (3.0%)\n",
      "\n",
      "📊 DEPARTMENT_NAME:\n",
      "  Total unique values: 238\n",
      "  Top 10 categories:\n",
      "    Jersey: 2,258 (5.3%)\n",
      "    Trouser: 1,498 (3.5%)\n",
      "    Swimwear: 1,439 (3.4%)\n",
      "    Blouse: 1,374 (3.2%)\n",
      "    Knitwear: 1,252 (3.0%)\n",
      "    Dress: 1,191 (2.8%)\n",
      "    Jersey Basic: 793 (1.9%)\n",
      "    Expressive Lingerie: 790 (1.9%)\n",
      "    Jersey fancy: 785 (1.9%)\n",
      "    Dresses: 721 (1.7%)\n",
      "\n",
      "📊 INDEX_NAME:\n",
      "  Total unique values: 10\n",
      "  Top 10 categories:\n",
      "    Ladieswear: 12,862 (30.4%)\n",
      "    Divided: 7,111 (16.8%)\n",
      "    Menswear: 4,717 (11.2%)\n",
      "    Lingeries/Tights: 3,919 (9.3%)\n",
      "    Ladies Accessories: 3,474 (8.2%)\n",
      "    Children Sizes 92-140: 2,832 (6.7%)\n",
      "    Children Sizes 134-170: 2,471 (5.8%)\n",
      "    Baby Sizes 50-98: 2,428 (5.7%)\n",
      "    Sport: 1,328 (3.1%)\n",
      "    Children Accessories, Swimwear: 1,156 (2.7%)\n",
      "\n",
      "📊 INDEX_GROUP_NAME:\n",
      "  Total unique values: 5\n",
      "  Top 10 categories:\n",
      "    Ladieswear: 20,255 (47.9%)\n",
      "    Baby/Children: 8,887 (21.0%)\n",
      "    Divided: 7,111 (16.8%)\n",
      "    Menswear: 4,717 (11.2%)\n",
      "    Sport: 1,328 (3.1%)\n",
      "\n",
      "📊 SECTION_NAME:\n",
      "  Total unique values: 56\n",
      "  Top 10 categories:\n",
      "    Womens Everyday Collection: 3,867 (9.1%)\n",
      "    Divided Collection: 3,489 (8.2%)\n",
      "    Womens Lingerie: 1,836 (4.3%)\n",
      "    Womens Tailoring: 1,805 (4.3%)\n",
      "    Womens Small accessories: 1,693 (4.0%)\n",
      "    Womens Casual: 1,405 (3.3%)\n",
      "    Womens Swimwear, beachwear: 1,331 (3.1%)\n",
      "    Baby Essentials & Complements: 1,305 (3.1%)\n",
      "    Womens Trend: 1,216 (2.9%)\n",
      "    Mama: 1,153 (2.7%)\n",
      "\n",
      "📊 GARMENT_GROUP_NAME:\n",
      "  Total unique values: 21\n",
      "  Top 10 categories:\n",
      "    Jersey Fancy: 7,715 (18.2%)\n",
      "    Accessories: 4,336 (10.3%)\n",
      "    Under-, Nightwear: 3,214 (7.6%)\n",
      "    Jersey Basic: 3,185 (7.5%)\n",
      "    Trousers: 3,132 (7.4%)\n",
      "    Blouses: 3,121 (7.4%)\n",
      "    Dresses Ladies: 2,513 (5.9%)\n",
      "    Knitwear: 2,417 (5.7%)\n",
      "    Shoes: 1,926 (4.6%)\n",
      "    Swimwear: 1,683 (4.0%)\n"
     ]
    },
    {
     "data": {
      "image/png": "[encoded data removed]",
      "text/plain": [
       "<Figure size 1600x1200 with 4 Axes>"
      ]
     },
     "metadata": {},
     "output_type": "display_data"
    }
   ],
   "source": [
    "# Comprehensive categorical features analysis\n",
    "print(\"🏷️ Categorical Features Analysis\")\n",
    "\n",
    "# Analyse each categorical feature\n",
    "for feature in categorical_features:\n",
    "    if feature in df.columns:\n",
    "        print(f\"\\n📊 {feature.upper()}:\")\n",
    "        \n",
    "        # Value counts and distribution\n",
    "        value_counts = (\n",
    "            df.group_by(feature)\n",
    "            .count()\n",
    "            .sort('count', descending=True)\n",
    "            .head(10)\n",
    "        )\n",
    "        \n",
    "        total_unique = df.select(pl.col(feature).n_unique()).item()\n",
    "        print(f\"  Total unique values: {total_unique}\")\n",
    "        print(f\"  Top 10 categories:\")\n",
    "        \n",
    "        for row in value_counts.iter_rows(named=True):\n",
    "            percentage = (row['count'] / df.height) * 100\n",
    "            print(f\"    {row[feature]}: {row['count']:,} ({percentage:.1f}%)\")\n",
    "\n",
    "# Create visualisations for categorical features\n",
    "if categorical_features:\n",
    "    n_features = min(len(categorical_features), 4)  # Limit to 4 for display\n",
    "    fig, axes = plt.subplots(2, 2, figsize=(16, 12))\n",
    "    axes = axes.flatten()\n",
    "    fig.suptitle('Categorical Features Distribution', fontsize=16, fontweight='bold')\n",
    "    \n",
    "    for i, feature in enumerate(categorical_features[:n_features]):\n",
    "        if feature in df.columns:\n",
    "            # Get top categories for visualisation\n",
    "            top_categories = (\n",
    "                df.group_by(feature)\n",
    "                .count()\n",
    "                .sort('count', descending=True)\n",
    "                .head(15)  # Top 15 for readability\n",
    "                .to_pandas()\n",
    "            )\n",
    "            \n",
    "            # Create bar plot\n",
    "            axes[i].bar(range(len(top_categories)), top_categories['count'], alpha=0.7)\n",
    "            axes[i].set_title(f'{feature.replace(\"_\", \" \").title()}')\n",
    "            axes[i].set_xlabel('Categories')\n",
    "            axes[i].set_ylabel('Count')\n",
    "            axes[i].tick_params(axis='x', rotation=45)\n",
    "            axes[i].grid(True, alpha=0.3)\n",
    "            \n",
    "            # Set x-axis labels (abbreviated if too long)\n",
    "            labels = [label[:20] + '...' if len(str(label)) > 20 else str(label) \n",
    "                     for label in top_categories[feature]]\n",
    "            axes[i].set_xticks(range(len(top_categories)))\n",
    "            axes[i].set_xticklabels(labels, rotation=45, ha='right')\n",
    "    \n",
    "    # Hide unused subplots\n",
    "    for i in range(n_features, 4):\n",
    "        axes[i].set_visible(False)\n",
    "    \n",
    "    plt.tight_layout()\n",
    "    plt.show()"
   ]
  },
  {
   "cell_type": "markdown",
   "metadata": {},
   "source": [
    "## 4. Numeric Features Distribution Analysis\n"
   ]
  },
  {
   "cell_type": "code",
   "execution_count": 6,
   "metadata": {},
   "outputs": [
    {
     "name": "stdout",
     "output_type": "stream",
     "text": [
      "📈 BERT Cluster Distribution Analysis\n",
      "⚠️ Missing cluster assignments: 69 articles (0.2%)\n",
      "Proceeding with analysis on articles with valid cluster assignments...\n",
      "\n",
      "🎯 BERT CLUSTER STATISTICS (Valid assignments only):\n",
      "  count: 42,229\n",
      "  mean: 15.3813\n",
      "  median: 16.0000\n",
      "  std: 8.4756\n",
      "  min: 0.0000\n",
      "  max: 31.0000\n",
      "  Q1: 8.0000\n",
      "  Q3: 23.0000\n",
      "  P95: 29.0000\n",
      "  P99: 31.0000\n",
      "\n",
      "📊 BERT Cluster Distribution:\n",
      "Total valid clusters: 32\n",
      "Articles with valid clusters: 42,229 (99.8%)\n",
      "Articles per cluster:\n",
      "  Cluster 0: 1,354 articles (3.2%)\n",
      "  Cluster 1: 668 articles (1.6%)\n",
      "  Cluster 2: 633 articles (1.5%)\n",
      "  Cluster 3: 1,677 articles (4.0%)\n",
      "  Cluster 4: 668 articles (1.6%)\n",
      "  Cluster 5: 995 articles (2.4%)\n",
      "  Cluster 6: 1,575 articles (3.7%)\n",
      "  Cluster 7: 1,807 articles (4.3%)\n",
      "  Cluster 8: 1,855 articles (4.4%)\n",
      "  Cluster 9: 1,749 articles (4.1%)\n",
      "  ... and 22 more clusters\n"
     ]
    },
    {
     "data": {
      "image/png": "[encoded data removed]",
      "text/plain": [
       "<Figure size 1600x1200 with 4 Axes>"
      ]
     },
     "metadata": {},
     "output_type": "display_data"
    },
    {
     "name": "stdout",
     "output_type": "stream",
     "text": [
      "\n",
      "🔍 BERT Cluster Insights:\n",
      "• Top 3 clusters contain: 16.3% of all valid articles\n",
      "• Top 5 clusters contain: 24.8% of all valid articles\n",
      "• Top 10 clusters contain: 44.8% of all valid articles\n",
      "• Largest cluster: 3,147 articles\n",
      "• Smallest cluster: 567 articles\n",
      "• Size ratio (largest/smallest): 5.6x\n",
      "• Cluster balance: Well-balanced (CV: 0.40)\n",
      "• Total unique clusters: 32\n",
      "\n",
      "📋 Data Quality Summary:\n",
      "• Valid cluster assignments: 42,229 articles (99.8%)\n",
      "• Missing cluster assignments: 69 articles (0.2%)\n",
      "• Average articles per cluster: 1319.7\n"
     ]
    }
   ],
   "source": [
    "# BERT Cluster Distribution Analysis\n",
    "print(\"📈 BERT Cluster Distribution Analysis\")\n",
    "\n",
    "# Focus specifically on bert_cluster feature\n",
    "bert_cluster_feature = 'bert_cluster'\n",
    "\n",
    "if bert_cluster_feature in df.columns:\n",
    "    # Check for missing values first\n",
    "    missing_clusters = df.select(pl.col(bert_cluster_feature).null_count()).item()\n",
    "    total_articles = df.height\n",
    "    \n",
    "    if missing_clusters > 0:\n",
    "        missing_pct = (missing_clusters / total_articles) * 100\n",
    "        print(f\"⚠️ Missing cluster assignments: {missing_clusters:,} articles ({missing_pct:.1f}%)\")\n",
    "        print(\"Proceeding with analysis on articles with valid cluster assignments...\\n\")\n",
    "    \n",
    "    # Filter out missing values for analysis\n",
    "    df_valid_clusters = df.filter(pl.col(bert_cluster_feature).is_not_null())\n",
    "    valid_count = df_valid_clusters.height\n",
    "    \n",
    "    # Calculate comprehensive statistics for BERT clusters (excluding nulls)\n",
    "    stats_data = df_valid_clusters.select([\n",
    "        pl.col(bert_cluster_feature).count().alias('count'),\n",
    "        pl.col(bert_cluster_feature).mean().alias('mean'),\n",
    "        pl.col(bert_cluster_feature).median().alias('median'),\n",
    "        pl.col(bert_cluster_feature).std().alias('std'),\n",
    "        pl.col(bert_cluster_feature).min().alias('min'),\n",
    "        pl.col(bert_cluster_feature).max().alias('max'),\n",
    "        pl.col(bert_cluster_feature).quantile(0.25).alias('Q1'),\n",
    "        pl.col(bert_cluster_feature).quantile(0.75).alias('Q3'),\n",
    "        pl.col(bert_cluster_feature).quantile(0.95).alias('P95'),\n",
    "        pl.col(bert_cluster_feature).quantile(0.99).alias('P99')\n",
    "    ]).to_dict(as_series=False)\n",
    "    \n",
    "    print(f\"🎯 BERT CLUSTER STATISTICS (Valid assignments only):\")\n",
    "    for stat, value in stats_data.items():\n",
    "        if stat == 'count':\n",
    "            print(f\"  {stat}: {value[0]:,}\")\n",
    "        else:\n",
    "            print(f\"  {stat}: {value[0]:.4f}\")\n",
    "    \n",
    "    # BERT cluster distribution analysis (only valid clusters)\n",
    "    cluster_distribution = (\n",
    "        df_valid_clusters.group_by(bert_cluster_feature)\n",
    "        .agg([\n",
    "            pl.len().alias('article_count'),\n",
    "            (pl.len() / valid_count * 100).alias('percentage')\n",
    "        ])\n",
    "        .sort(bert_cluster_feature)\n",
    "    )\n",
    "    \n",
    "    print(f\"\\n📊 BERT Cluster Distribution:\")\n",
    "    print(f\"Total valid clusters: {cluster_distribution.height}\")\n",
    "    print(f\"Articles with valid clusters: {valid_count:,} ({valid_count/total_articles*100:.1f}%)\")\n",
    "    print(f\"Articles per cluster:\")\n",
    "    \n",
    "    cluster_pd = cluster_distribution.to_pandas()\n",
    "    for _, row in cluster_pd.head(10).iterrows():  # Show first 10 clusters\n",
    "        cluster_id = int(row[bert_cluster_feature])\n",
    "        article_count = int(row['article_count'])\n",
    "        percentage = row['percentage']\n",
    "        print(f\"  Cluster {cluster_id}: {article_count:,} articles ({percentage:.1f}%)\")\n",
    "    \n",
    "    if cluster_distribution.height > 10:\n",
    "        print(f\"  ... and {cluster_distribution.height - 10} more clusters\")\n",
    "    \n",
    "    # Create comprehensive BERT cluster visualisations\n",
    "    fig, axes = plt.subplots(2, 2, figsize=(16, 12))\n",
    "    fig.suptitle('BERT Cluster Analysis', fontsize=16, fontweight='bold')\n",
    "    \n",
    "    # Convert to pandas for plotting (valid clusters only)\n",
    "    feature_data = df_valid_clusters.select(bert_cluster_feature).to_pandas()[bert_cluster_feature]\n",
    "    \n",
    "    # 1. Cluster distribution histogram\n",
    "    n_unique_clusters = df_valid_clusters.select(pl.col(bert_cluster_feature).n_unique()).item()\n",
    "    bins = min(32, n_unique_clusters)  # Use appropriate number of bins\n",
    "    \n",
    "    axes[0, 0].hist(feature_data, bins=bins, alpha=0.7, edgecolor='black', color='skyblue')\n",
    "    axes[0, 0].set_title('BERT Cluster Distribution')\n",
    "    axes[0, 0].set_xlabel('Cluster ID')\n",
    "    axes[0, 0].set_ylabel('Number of Articles')\n",
    "    axes[0, 0].grid(True, alpha=0.3)\n",
    "    \n",
    "    # Add statistics annotation\n",
    "    mean_val = feature_data.mean()\n",
    "    median_val = feature_data.median()\n",
    "    axes[0, 0].axvline(mean_val, color='red', linestyle='--', alpha=0.7, label=f'Mean: {mean_val:.1f}')\n",
    "    axes[0, 0].axvline(median_val, color='orange', linestyle='--', alpha=0.7, label=f'Median: {median_val:.1f}')\n",
    "    axes[0, 0].legend()\n",
    "    \n",
    "    # 2. Cluster size bar chart (top 15 clusters)\n",
    "    top_clusters = cluster_pd.nlargest(min(15, len(cluster_pd)), 'article_count')\n",
    "    axes[0, 1].bar(top_clusters[bert_cluster_feature].astype(str), top_clusters['article_count'], \n",
    "                   alpha=0.7, color='lightgreen')\n",
    "    axes[0, 1].set_title(f'Top {len(top_clusters)} Clusters by Size')\n",
    "    axes[0, 1].set_xlabel('Cluster ID')\n",
    "    axes[0, 1].set_ylabel('Number of Articles')\n",
    "    axes[0, 1].tick_params(axis='x', rotation=45)\n",
    "    axes[0, 1].grid(True, alpha=0.3)\n",
    "    \n",
    "    # 3. Box plot for cluster distribution\n",
    "    axes[1, 0].boxplot(feature_data, vert=True)\n",
    "    axes[1, 0].set_title('BERT Cluster Box Plot')\n",
    "    axes[1, 0].set_ylabel('Cluster ID')\n",
    "    axes[1, 0].grid(True, alpha=0.3)\n",
    "    \n",
    "    # 4. Cumulative percentage plot\n",
    "    cluster_sorted = cluster_pd.sort_values('article_count', ascending=False)\n",
    "    cluster_sorted['cumulative_pct'] = cluster_sorted['percentage'].cumsum()\n",
    "    \n",
    "    axes[1, 1].plot(range(1, len(cluster_sorted) + 1), cluster_sorted['cumulative_pct'], \n",
    "                    'bo-', alpha=0.7)\n",
    "    axes[1, 1].set_title('Cumulative Article Distribution by Cluster')\n",
    "    axes[1, 1].set_xlabel('Clusters (ranked by size)')\n",
    "    axes[1, 1].set_ylabel('Cumulative Percentage (%)')\n",
    "    axes[1, 1].grid(True, alpha=0.3)\n",
    "    axes[1, 1].axhline(y=80, color='red', linestyle='--', alpha=0.7, label='80% threshold')\n",
    "    axes[1, 1].legend()\n",
    "    \n",
    "    plt.tight_layout()\n",
    "    plt.show()\n",
    "    \n",
    "    # Additional insights\n",
    "    print(f\"\\n🔍 BERT Cluster Insights:\")\n",
    "    \n",
    "    # Cluster concentration analysis\n",
    "    top_3_clusters = cluster_sorted.head(3)['percentage'].sum()\n",
    "    top_5_clusters = cluster_sorted.head(min(5, len(cluster_sorted)))['percentage'].sum()\n",
    "    top_10_clusters = cluster_sorted.head(min(10, len(cluster_sorted)))['percentage'].sum()\n",
    "    \n",
    "    print(f\"• Top 3 clusters contain: {top_3_clusters:.1f}% of all valid articles\")\n",
    "    if len(cluster_sorted) >= 5:\n",
    "        print(f\"• Top 5 clusters contain: {top_5_clusters:.1f}% of all valid articles\")\n",
    "    if len(cluster_sorted) >= 10:\n",
    "        print(f\"• Top 10 clusters contain: {top_10_clusters:.1f}% of all valid articles\")\n",
    "    \n",
    "    # Cluster balance analysis\n",
    "    cluster_sizes = cluster_pd['article_count'].values\n",
    "    largest_cluster = cluster_sizes.max()\n",
    "    smallest_cluster = cluster_sizes.min()\n",
    "    size_ratio = largest_cluster / smallest_cluster if smallest_cluster > 0 else float('inf')\n",
    "    \n",
    "    print(f\"• Largest cluster: {largest_cluster:,} articles\")\n",
    "    print(f\"• Smallest cluster: {smallest_cluster:,} articles\")\n",
    "    print(f\"• Size ratio (largest/smallest): {size_ratio:.1f}x\")\n",
    "    \n",
    "    # Distribution characteristics\n",
    "    cluster_cv = cluster_pd['article_count'].std() / cluster_pd['article_count'].mean()\n",
    "    balance_assessment = \"Well-balanced\" if cluster_cv < 0.5 else \"Moderately balanced\" if cluster_cv < 1.0 else \"Imbalanced\"\n",
    "    \n",
    "    print(f\"• Cluster balance: {balance_assessment} (CV: {cluster_cv:.2f})\")\n",
    "    print(f\"• Total unique clusters: {n_unique_clusters}\")\n",
    "    \n",
    "    # Data quality summary\n",
    "    print(f\"\\n📋 Data Quality Summary:\")\n",
    "    print(f\"• Valid cluster assignments: {valid_count:,} articles ({valid_count/total_articles*100:.1f}%)\")\n",
    "    if missing_clusters > 0:\n",
    "        print(f\"• Missing cluster assignments: {missing_clusters:,} articles ({missing_pct:.1f}%)\")\n",
    "    print(f\"• Average articles per cluster: {valid_count/n_unique_clusters:.1f}\")\n",
    "    \n",
    "else:\n",
    "    print(\"❌ BERT cluster feature not found in the dataset.\")"
   ]
  },
  {
   "cell_type": "markdown",
   "metadata": {},
   "source": [
    "## 5. Text Embedding Features Analysis\n"
   ]
  },
  {
   "cell_type": "code",
   "execution_count": 7,
   "metadata": {},
   "outputs": [
    {
     "name": "stdout",
     "output_type": "stream",
     "text": [
      "🤖 Text Embedding Features Analysis\n",
      "Found 1 text embedding features\n",
      "\n",
      "📊 Embedding Feature Categories:\n",
      "• BERT features: 1\n",
      "• TF-IDF features: 0\n",
      "• SVD features: 0\n",
      "• PCA features: 0\n",
      "\n",
      "📈 Sample Embedding Statistics:\n",
      "     Feature    Mean    Std           Range\n",
      "bert_cluster 15.3813 8.4756 [0.000, 31.000]\n"
     ]
    }
   ],
   "source": [
    "# Text embedding features analysis\n",
    "print(\"🤖 Text Embedding Features Analysis\")\n",
    "\n",
    "if text_embedding_features:\n",
    "    print(f\"Found {len(text_embedding_features)} text embedding features\")\n",
    "    \n",
    "    # Categorise embedding types\n",
    "    bert_features = [f for f in text_embedding_features if 'bert' in f.lower()]\n",
    "    tfidf_features = [f for f in text_embedding_features if 'tfidf' in f.lower()]\n",
    "    svd_features = [f for f in text_embedding_features if 'svd' in f.lower()]\n",
    "    pca_features = [f for f in text_embedding_features if 'pca' in f.lower()]\n",
    "    \n",
    "    print(f\"\\n📊 Embedding Feature Categories:\")\n",
    "    print(f\"• BERT features: {len(bert_features)}\")\n",
    "    print(f\"• TF-IDF features: {len(tfidf_features)}\")\n",
    "    print(f\"• SVD features: {len(svd_features)}\")\n",
    "    print(f\"• PCA features: {len(pca_features)}\")\n",
    "    \n",
    "    # Analyse embedding feature statistics\n",
    "    sample_embeddings = text_embedding_features[:20]  # Sample for analysis\n",
    "    \n",
    "    if sample_embeddings:\n",
    "        embedding_stats = []\n",
    "        \n",
    "        for feature in sample_embeddings:\n",
    "            if feature in df.columns:\n",
    "                stats = df.select([\n",
    "                    pl.col(feature).mean().alias('mean'),\n",
    "                    pl.col(feature).std().alias('std'),\n",
    "                    pl.col(feature).min().alias('min'),\n",
    "                    pl.col(feature).max().alias('max')\n",
    "                ]).to_dict(as_series=False)\n",
    "                \n",
    "                embedding_stats.append({\n",
    "                    'Feature': feature,\n",
    "                    'Mean': f\"{stats['mean'][0]:.4f}\",\n",
    "                    'Std': f\"{stats['std'][0]:.4f}\",\n",
    "                    'Range': f\"[{stats['min'][0]:.3f}, {stats['max'][0]:.3f}]\"\n",
    "                })\n",
    "        \n",
    "        embedding_df = pd.DataFrame(embedding_stats)\n",
    "        print(f\"\\n📈 Sample Embedding Statistics:\")\n",
    "        print(embedding_df.head(10).to_string(index=False))\n",
    "    \n",
    "    # Visualise embedding feature distributions\n",
    "    if len(sample_embeddings) >= 4:\n",
    "        fig, axes = plt.subplots(2, 2, figsize=(15, 10))\n",
    "        axes = axes.flatten()\n",
    "        fig.suptitle('Text Embedding Features Distribution', fontsize=16, fontweight='bold')\n",
    "        \n",
    "        for i in range(4):\n",
    "            if i < len(sample_embeddings):\n",
    "                feature = sample_embeddings[i]\n",
    "                if feature in df.columns:\n",
    "                    feature_data = df.select(feature).to_pandas()[feature].dropna()\n",
    "                    \n",
    "                    axes[i].hist(feature_data, bins=50, alpha=0.7, edgecolor='black')\n",
    "                    axes[i].set_title(f'{feature}')\n",
    "                    axes[i].set_xlabel('Value')\n",
    "                    axes[i].set_ylabel('Frequency')\n",
    "                    axes[i].grid(True, alpha=0.3)\n",
    "        \n",
    "        plt.tight_layout()\n",
    "        plt.show()\n",
    "    \n",
    "    # Embedding space dimensionality analysis\n",
    "    if len(text_embedding_features) > 10:\n",
    "        print(f\"\\n🔍 Embedding Space Analysis:\")\n",
    "        \n",
    "        # Sample embeddings for PCA analysis\n",
    "        embedding_sample = text_embedding_features[:50]  # Use first 50 dimensions\n",
    "        \n",
    "        try:\n",
    "            # Convert to pandas for PCA\n",
    "            embedding_data = df.select(embedding_sample).to_pandas().fillna(0)\n",
    "            \n",
    "            # Perform PCA\n",
    "            pca = PCA(n_components=min(10, len(embedding_sample)))\n",
    "            pca_result = pca.fit_transform(embedding_data)\n",
    "            \n",
    "            # Plot explained variance\n",
    "            fig, (ax1, ax2) = plt.subplots(1, 2, figsize=(15, 6))\n",
    "            \n",
    "            # Explained variance ratio\n",
    "            ax1.bar(range(1, len(pca.explained_variance_ratio_) + 1), pca.explained_variance_ratio_)\n",
    "            ax1.set_title('PCA Explained Variance Ratio')\n",
    "            ax1.set_xlabel('Principal Component')\n",
    "            ax1.set_ylabel('Explained Variance Ratio')\n",
    "            ax1.grid(True, alpha=0.3)\n",
    "            \n",
    "            # Cumulative explained variance\n",
    "            cumulative_variance = np.cumsum(pca.explained_variance_ratio_)\n",
    "            ax2.plot(range(1, len(cumulative_variance) + 1), cumulative_variance, 'bo-')\n",
    "            ax2.set_title('Cumulative Explained Variance')\n",
    "            ax2.set_xlabel('Number of Components')\n",
    "            ax2.set_ylabel('Cumulative Explained Variance')\n",
    "            ax2.grid(True, alpha=0.3)\n",
    "            ax2.axhline(y=0.95, color='r', linestyle='--', alpha=0.7, label='95% Variance')\n",
    "            ax2.legend()\n",
    "            \n",
    "            plt.tight_layout()\n",
    "            plt.show()\n",
    "            \n",
    "            print(f\"  First 5 components explain {cumulative_variance[4]:.1%} of variance\")\n",
    "            print(f\"  95% variance captured by {np.argmax(cumulative_variance >= 0.95) + 1} components\")\n",
    "            \n",
    "        except Exception as e:\n",
    "            print(f\"  ❌ Error in PCA analysis: {e}\")\n",
    "            \n",
    "else:\n",
    "    print(\"❌ No text embedding features found in the dataset.\")"
   ]
  },
  {
   "cell_type": "markdown",
   "metadata": {},
   "source": [
    "## 6. Feature Correlation Analysis\n"
   ]
  },
  {
   "cell_type": "code",
   "execution_count": 8,
   "metadata": {},
   "outputs": [
    {
     "name": "stdout",
     "output_type": "stream",
     "text": [
      "🔗 Feature Correlation Analysis\n",
      "Analysing correlations between 1 features\n",
      "Features: ['bert_cluster']\n",
      "Only one feature available: bert_cluster\n",
      "Cannot perform correlation analysis with a single feature.\n",
      "\n",
      "📊 Single Feature Analysis:\n",
      "  count: 42,229\n",
      "  unique_values: 33\n",
      "  mean: 15.3813\n",
      "  std: 8.4756\n"
     ]
    }
   ],
   "source": [
    "# Comprehensive feature correlation analysis\n",
    "print(\"🔗 Feature Correlation Analysis\")\n",
    "\n",
    "# Re-define numeric features for correlation analysis\n",
    "numeric_features = df.select(pl.col(pl.NUMERIC_DTYPES)).columns\n",
    "analysis_numeric_features = [col for col in numeric_features \n",
    "                           if col not in ['article_id'] and not col.endswith('_id')]\n",
    "\n",
    "# Select features for correlation analysis (avoid too many embedding features)\n",
    "correlation_features = []\n",
    "\n",
    "# Add non-embedding numeric features\n",
    "non_embedding_numeric = [f for f in analysis_numeric_features if f not in text_embedding_features]\n",
    "correlation_features.extend(non_embedding_numeric[:10])  # Limit to 10\n",
    "\n",
    "# Add sample of embedding features\n",
    "if text_embedding_features:\n",
    "    correlation_features.extend(text_embedding_features[:20])  # Sample 20 embedding features\n",
    "\n",
    "print(f\"Analysing correlations between {len(correlation_features)} features\")\n",
    "print(f\"Features: {correlation_features}\")\n",
    "\n",
    "if len(correlation_features) > 1:\n",
    "    # Calculate correlation matrix\n",
    "    corr_data = df.select(correlation_features).to_pandas().fillna(0)\n",
    "    correlation_matrix = corr_data.corr()\n",
    "    \n",
    "    # Create correlation heatmap\n",
    "    fig, ax = plt.subplots(figsize=(14, 12))\n",
    "    \n",
    "    # Create mask for upper triangle\n",
    "    mask = np.triu(np.ones_like(correlation_matrix, dtype=bool))\n",
    "    \n",
    "    # Generate heatmap\n",
    "    sns.heatmap(\n",
    "        correlation_matrix,\n",
    "        mask=mask,\n",
    "        annot=True if len(correlation_features) <= 10 else False,  # Only annotate if few features\n",
    "        cmap='RdBu_r',\n",
    "        center=0,\n",
    "        square=True,\n",
    "        cbar_kws={'shrink': 0.8},\n",
    "        ax=ax,\n",
    "        fmt='.2f'\n",
    "    )\n",
    "    \n",
    "    ax.set_title('Article Feature Correlation Matrix', fontsize=16, fontweight='bold')\n",
    "    plt.tight_layout()\n",
    "    plt.show()\n",
    "    \n",
    "    # Identify strongest correlations\n",
    "    print(\"\\n🔍 Strongest Feature Correlations (|r| > 0.3):\")\n",
    "    strong_correlations = []\n",
    "    \n",
    "    for i in range(len(correlation_matrix.columns)):\n",
    "        for j in range(i+1, len(correlation_matrix.columns)):\n",
    "            corr_value = correlation_matrix.iloc[i, j]\n",
    "            if abs(corr_value) > 0.3:  # Lower threshold since we have fewer features\n",
    "                strong_correlations.append({\n",
    "                    'Feature 1': correlation_matrix.columns[i],\n",
    "                    'Feature 2': correlation_matrix.columns[j],\n",
    "                    'Correlation': corr_value\n",
    "                })\n",
    "    \n",
    "    # Sort by absolute correlation strength\n",
    "    strong_correlations.sort(key=lambda x: abs(x['Correlation']), reverse=True)\n",
    "    \n",
    "    if strong_correlations:\n",
    "        for corr in strong_correlations[:15]:  # Top 15\n",
    "            print(f\"  {corr['Feature 1']} ↔ {corr['Feature 2']}: {corr['Correlation']:.3f}\")\n",
    "    else:\n",
    "        print(\"  No strong correlations (|r| > 0.3) found between features.\")\n",
    "        \n",
    "    # Feature redundancy analysis\n",
    "    highly_corr_pairs = [corr for corr in strong_correlations if abs(corr['Correlation']) > 0.7]\n",
    "    \n",
    "    if highly_corr_pairs:\n",
    "        print(f\"\\n⚠️ Potentially Redundant Features ({len(highly_corr_pairs)} pairs with |r| > 0.7):\")\n",
    "        for corr in highly_corr_pairs[:10]:\n",
    "            print(f\"  {corr['Feature 1']} ↔ {corr['Feature 2']}: {corr['Correlation']:.3f}\")\n",
    "    else:\n",
    "        print(\"\\n✅ No highly redundant features found (|r| > 0.7)\")\n",
    "        \n",
    "    # Summary of correlation analysis\n",
    "    print(f\"\\n📊 Correlation Analysis Summary:\")\n",
    "    print(f\"• Features analyzed: {len(correlation_features)}\")\n",
    "    print(f\"• Strong correlations (|r| > 0.3): {len(strong_correlations)}\")\n",
    "    print(f\"• Potentially redundant pairs (|r| > 0.7): {len(highly_corr_pairs)}\")\n",
    "    \n",
    "    if len(correlation_features) == 1:\n",
    "        print(\"\\n📝 Note: Only one feature available for correlation analysis.\")\n",
    "        print(\"  BERT cluster feature shows the semantic grouping of articles.\")\n",
    "        \n",
    "elif len(correlation_features) == 1:\n",
    "    print(f\"Only one feature available: {correlation_features[0]}\")\n",
    "    print(\"Cannot perform correlation analysis with a single feature.\")\n",
    "    print(\"\\n📊 Single Feature Analysis:\")\n",
    "    \n",
    "    feature = correlation_features[0]\n",
    "    feature_stats = df.select([\n",
    "        pl.col(feature).count().alias('count'),\n",
    "        pl.col(feature).n_unique().alias('unique_values'),\n",
    "        pl.col(feature).mean().alias('mean'),\n",
    "        pl.col(feature).std().alias('std')\n",
    "    ]).to_dict(as_series=False)\n",
    "    \n",
    "    for stat, value in feature_stats.items():\n",
    "        if stat in ['count', 'unique_values']:\n",
    "            print(f\"  {stat}: {value[0]:,}\")\n",
    "        else:\n",
    "            print(f\"  {stat}: {value[0]:.4f}\")\n",
    "            \n",
    "else:\n",
    "    print(\"❌ No suitable features found for correlation analysis.\")"
   ]
  },
  {
   "cell_type": "markdown",
   "metadata": {},
   "source": [
    "## 7. Article Clustering Analysis\n"
   ]
  },
  {
   "cell_type": "code",
   "execution_count": 9,
   "metadata": {},
   "outputs": [
    {
     "name": "stdout",
     "output_type": "stream",
     "text": [
      "🎯 Article Clustering Analysis\n",
      "Using 1 features for clustering: ['bert_cluster']...\n",
      "❌ Insufficient features for meaningful clustering analysis.\n"
     ]
    }
   ],
   "source": [
    "# Article clustering analysis for product segmentation\n",
    "print(\"🎯 Article Clustering Analysis\")\n",
    "\n",
    "# Prepare clustering features (use a mix of different feature types)\n",
    "clustering_features = []\n",
    "\n",
    "# Add non-embedding numeric features\n",
    "if non_embedding_numeric:\n",
    "    clustering_features.extend(non_embedding_numeric[:5])\n",
    "\n",
    "# Add embedding features\n",
    "if text_embedding_features:\n",
    "    clustering_features.extend(text_embedding_features[:15])  # Sample embedding features\n",
    "\n",
    "print(f\"Using {len(clustering_features)} features for clustering: {clustering_features[:10]}...\")\n",
    "\n",
    "if len(clustering_features) >= 3:\n",
    "    # Prepare clustering data\n",
    "    cluster_data = df.select(clustering_features).to_pandas().fillna(0)\n",
    "    \n",
    "    # Standardise features\n",
    "    scaler = StandardScaler()\n",
    "    scaled_data = scaler.fit_transform(cluster_data)\n",
    "    \n",
    "    # Determine optimal number of clusters using multiple methods\n",
    "    max_k = min(15, df.height // 100)  # Reasonable upper bound\n",
    "    k_range = range(2, max_k + 1)\n",
    "    \n",
    "    inertias = []\n",
    "    silhouette_scores = []\n",
    "    \n",
    "    print(f\"\\n🔍 Evaluating cluster numbers from 2 to {max_k}...\")\n",
    "    \n",
    "    for k in k_range:\n",
    "        # K-means clustering\n",
    "        kmeans = KMeans(n_clusters=k, random_state=42, n_init=10)\n",
    "        cluster_labels = kmeans.fit_predict(scaled_data)\n",
    "        \n",
    "        # Calculate metrics\n",
    "        inertias.append(kmeans.inertia_)\n",
    "        \n",
    "        # Silhouette score (sample for large datasets)\n",
    "        if len(scaled_data) > 5000:\n",
    "            sample_indices = np.random.choice(len(scaled_data), 5000, replace=False)\n",
    "            sil_score = silhouette_score(scaled_data[sample_indices], cluster_labels[sample_indices])\n",
    "        else:\n",
    "            sil_score = silhouette_score(scaled_data, cluster_labels)\n",
    "        \n",
    "        silhouette_scores.append(sil_score)\n",
    "    \n",
    "    # Plot clustering evaluation metrics\n",
    "    fig, (ax1, ax2) = plt.subplots(1, 2, figsize=(15, 6))\n",
    "    \n",
    "    # Elbow curve\n",
    "    ax1.plot(k_range, inertias, 'bo-')\n",
    "    ax1.set_title('Elbow Method for Optimal K')\n",
    "    ax1.set_xlabel('Number of Clusters')\n",
    "    ax1.set_ylabel('Inertia')\n",
    "    ax1.grid(True, alpha=0.3)\n",
    "    \n",
    "    # Silhouette scores\n",
    "    ax2.plot(k_range, silhouette_scores, 'ro-')\n",
    "    ax2.set_title('Silhouette Score by Number of Clusters')\n",
    "    ax2.set_xlabel('Number of Clusters')\n",
    "    ax2.set_ylabel('Silhouette Score')\n",
    "    ax2.grid(True, alpha=0.3)\n",
    "    \n",
    "    plt.tight_layout()\n",
    "    plt.show()\n",
    "    \n",
    "    # Select optimal K (highest silhouette score)\n",
    "    optimal_k = k_range[np.argmax(silhouette_scores)]\n",
    "    best_silhouette = max(silhouette_scores)\n",
    "    \n",
    "    print(f\"\\n🎯 Optimal number of clusters: {optimal_k} (Silhouette Score: {best_silhouette:.3f})\")\n",
    "    \n",
    "    # Perform final clustering\n",
    "    final_kmeans = KMeans(n_clusters=optimal_k, random_state=42, n_init=10)\n",
    "    final_clusters = final_kmeans.fit_predict(scaled_data)\n",
    "    \n",
    "    # Cluster analysis\n",
    "    cluster_df = df.select(['article_id'] + clustering_features).to_pandas()\n",
    "    cluster_df['cluster'] = final_clusters\n",
    "    \n",
    "    print(f\"\\n📊 Article Cluster Analysis (K={optimal_k}):\")\n",
    "    print(\"=\" * 50)\n",
    "    \n",
    "    cluster_summary = []\n",
    "    \n",
    "    for cluster_id in range(optimal_k):\n",
    "        cluster_mask = final_clusters == cluster_id\n",
    "        cluster_size = np.sum(cluster_mask)\n",
    "        cluster_percentage = (cluster_size / len(final_clusters)) * 100\n",
    "        \n",
    "        cluster_summary.append({\n",
    "            'Cluster': cluster_id,\n",
    "            'Size': cluster_size,\n",
    "            'Percentage': cluster_percentage\n",
    "        })\n",
    "        \n",
    "        print(f\"\\n📦 CLUSTER {cluster_id}: {cluster_size:,} articles ({cluster_percentage:.1f}%)\")\n",
    "        \n",
    "        # Calculate cluster characteristics for non-embedding features\n",
    "        segment_data = cluster_df[cluster_df['cluster'] == cluster_id]\n",
    "        \n",
    "        for feature in non_embedding_numeric[:5]:  # Show top 5 features\n",
    "            if feature in segment_data.columns:\n",
    "                mean_val = segment_data[feature].mean()\n",
    "                overall_mean = cluster_df[feature].mean()\n",
    "                \n",
    "                if not np.isnan(mean_val) and not np.isnan(overall_mean) and overall_mean != 0:\n",
    "                    difference = ((mean_val - overall_mean) / overall_mean) * 100\n",
    "                    \n",
    "                    if abs(difference) > 10:  # Only show significant differences\n",
    "                        direction = \"above\" if difference > 0 else \"below\"\n",
    "                        print(f\"  • {feature}: {mean_val:.3f} ({abs(difference):.0f}% {direction} average)\")\n",
    "    \n",
    "    # Visualise clusters using PCA\n",
    "    if len(clustering_features) > 2:\n",
    "        pca = PCA(n_components=2)\n",
    "        pca_data = pca.fit_transform(scaled_data)\n",
    "        \n",
    "        fig, ax = plt.subplots(figsize=(12, 8))\n",
    "        scatter = ax.scatter(pca_data[:, 0], pca_data[:, 1], c=final_clusters, cmap='viridis', alpha=0.6, s=20)\n",
    "        ax.set_xlabel(f'PC1 ({pca.explained_variance_ratio_[0]:.1%} variance)')\n",
    "        ax.set_ylabel(f'PC2 ({pca.explained_variance_ratio_[1]:.1%} variance)')\n",
    "        ax.set_title(f'Article Clusters Visualisation (K={optimal_k}, PCA Projection)')\n",
    "        plt.colorbar(scatter, label='Cluster')\n",
    "        plt.tight_layout()\n",
    "        plt.show()\n",
    "        \n",
    "        print(f\"\\n📈 PCA explains {pca.explained_variance_ratio_.sum():.1%} of total variance\")\n",
    "    \n",
    "    # Suggest cluster interpretations based on categorical features\n",
    "    if categorical_features:\n",
    "        print(f\"\\n🏷️ Cluster Interpretation (based on categorical features):\")\n",
    "        \n",
    "        for cluster_id in range(min(optimal_k, 5)):  # Show first 5 clusters\n",
    "            cluster_articles = df.filter(pl.col('article_id').is_in(\n",
    "                cluster_df[cluster_df['cluster'] == cluster_id]['article_id'].tolist()\n",
    "            ))\n",
    "            \n",
    "            print(f\"\\n  CLUSTER {cluster_id}:\")\n",
    "            \n",
    "            for cat_feature in categorical_features[:3]:  # Top 3 categorical features\n",
    "                if cat_feature in cluster_articles.columns:\n",
    "                    top_categories = (\n",
    "                        cluster_articles.group_by(cat_feature)\n",
    "                        .count()\n",
    "                        .sort('count', descending=True)\n",
    "                        .head(3)\n",
    "                    )\n",
    "                    \n",
    "                    print(f\"    Top {cat_feature}: \", end=\"\")\n",
    "                    for row in top_categories.iter_rows(named=True):\n",
    "                        pct = (row['count'] / cluster_articles.height) * 100\n",
    "                        print(f\"{row[cat_feature]} ({pct:.0f}%), \", end=\"\")\n",
    "                    print()  # New line\n",
    "    \n",
    "else:\n",
    "    print(\"❌ Insufficient features for meaningful clustering analysis.\")"
   ]
  },
  {
   "cell_type": "markdown",
   "metadata": {},
   "source": [
    "## 8. Interactive Visualisations\n"
   ]
  },
  {
   "cell_type": "code",
   "execution_count": 10,
   "metadata": {},
   "outputs": [
    {
     "name": "stdout",
     "output_type": "stream",
     "text": [
      "📊 Interactive Article Analytics\n"
     ]
    },
    {
     "data": {
      "application/vnd.plotly.v1+json": {
       "config": {
        "plotlyServerURL": "https://plot.ly"
       },
       "data": [
        {
         "hovertemplate": "product_type_name=%{x}<br>count=%{y}<extra></extra>",
         "legendgroup": "",
         "marker": {
          "color": "#636efa",
          "pattern": {
           "shape": ""
          }
         },
         "name": "",
         "orientation": "v",
         "showlegend": false,
         "textposition": "auto",
         "type": "bar",
         "x": [
          "Dress",
          "Trousers",
          "Sweater",
          "T-shirt",
          "Top",
          "Blouse",
          "Shorts",
          "Vest top",
          "Jacket",
          "Skirt",
          "Shirt",
          "Underwear bottom",
          "Bra",
          "Socks",
          "Swimwear bottom",
          "Hoodie",
          "Leggings/Tights",
          "Bikini top",
          "Sneakers",
          "Cardigan"
         ],
         "xaxis": "x",
         "y": {
          "bdata": "/xIAALMSAAAFCwAAfgoAACIHAADvBgAA7gYAAIQFAABTBQAAHgUAABwFAAC6BAAAQQQAACIDAADvAgAA0gIAALcCAACZAgAAHwIAAPoBAAA=",
          "dtype": "u4"
         },
         "yaxis": "y"
        }
       ],
       "layout": {
        "barmode": "relative",
        "height": 500,
        "legend": {
         "tracegroupgap": 0
        },
        "showlegend": false,
        "template": {
         "data": {
          "bar": [
           {
            "error_x": {
             "color": "#2a3f5f"
            },
            "error_y": {
             "color": "#2a3f5f"
            },
            "marker": {
             "line": {
              "color": "#E5ECF6",
              "width": 0.5
             },
             "pattern": {
              "fillmode": "overlay",
              "size": 10,
              "solidity": 0.2
             }
            },
            "type": "bar"
           }
          ],
          "barpolar": [
           {
            "marker": {
             "line": {
              "color": "#E5ECF6",
              "width": 0.5
             },
             "pattern": {
              "fillmode": "overlay",
              "size": 10,
              "solidity": 0.2
             }
            },
            "type": "barpolar"
           }
          ],
          "carpet": [
           {
            "aaxis": {
             "endlinecolor": "#2a3f5f",
             "gridcolor": "white",
             "linecolor": "white",
             "minorgridcolor": "white",
             "startlinecolor": "#2a3f5f"
            },
            "baxis": {
             "endlinecolor": "#2a3f5f",
             "gridcolor": "white",
             "linecolor": "white",
             "minorgridcolor": "white",
             "startlinecolor": "#2a3f5f"
            },
            "type": "carpet"
           }
          ],
          "choropleth": [
           {
            "colorbar": {
             "outlinewidth": 0,
             "ticks": ""
            },
            "type": "choropleth"
           }
          ],
          "contour": [
           {
            "colorbar": {
             "outlinewidth": 0,
             "ticks": ""
            },
            "colorscale": [
             [
              0,
              "#0d0887"
             ],
             [
              0.1111111111111111,
              "#46039f"
             ],
             [
              0.2222222222222222,
              "#7201a8"
             ],
             [
              0.3333333333333333,
              "#9c179e"
             ],
             [
              0.4444444444444444,
              "#bd3786"
             ],
             [
              0.5555555555555556,
              "#d8576b"
             ],
             [
              0.6666666666666666,
              "#ed7953"
             ],
             [
              0.7777777777777778,
              "#fb9f3a"
             ],
             [
              0.8888888888888888,
              "#fdca26"
             ],
             [
              1,
              "#f0f921"
             ]
            ],
            "type": "contour"
           }
          ],
          "contourcarpet": [
           {
            "colorbar": {
             "outlinewidth": 0,
             "ticks": ""
            },
            "type": "contourcarpet"
           }
          ],
          "heatmap": [
           {
            "colorbar": {
             "outlinewidth": 0,
             "ticks": ""
            },
            "colorscale": [
             [
              0,
              "#0d0887"
             ],
             [
              0.1111111111111111,
              "#46039f"
             ],
             [
              0.2222222222222222,
              "#7201a8"
             ],
             [
              0.3333333333333333,
              "#9c179e"
             ],
             [
              0.4444444444444444,
              "#bd3786"
             ],
             [
              0.5555555555555556,
              "#d8576b"
             ],
             [
              0.6666666666666666,
              "#ed7953"
             ],
             [
              0.7777777777777778,
              "#fb9f3a"
             ],
             [
              0.8888888888888888,
              "#fdca26"
             ],
             [
              1,
              "#f0f921"
             ]
            ],
            "type": "heatmap"
           }
          ],
          "histogram": [
           {
            "marker": {
             "pattern": {
              "fillmode": "overlay",
              "size": 10,
              "solidity": 0.2
             }
            },
            "type": "histogram"
           }
          ],
          "histogram2d": [
           {
            "colorbar": {
             "outlinewidth": 0,
             "ticks": ""
            },
            "colorscale": [
             [
              0,
              "#0d0887"
             ],
             [
              0.1111111111111111,
              "#46039f"
             ],
             [
              0.2222222222222222,
              "#7201a8"
             ],
             [
              0.3333333333333333,
              "#9c179e"
             ],
             [
              0.4444444444444444,
              "#bd3786"
             ],
             [
              0.5555555555555556,
              "#d8576b"
             ],
             [
              0.6666666666666666,
              "#ed7953"
             ],
             [
              0.7777777777777778,
              "#fb9f3a"
             ],
             [
              0.8888888888888888,
              "#fdca26"
             ],
             [
              1,
              "#f0f921"
             ]
            ],
            "type": "histogram2d"
           }
          ],
          "histogram2dcontour": [
           {
            "colorbar": {
             "outlinewidth": 0,
             "ticks": ""
            },
            "colorscale": [
             [
              0,
              "#0d0887"
             ],
             [
              0.1111111111111111,
              "#46039f"
             ],
             [
              0.2222222222222222,
              "#7201a8"
             ],
             [
              0.3333333333333333,
              "#9c179e"
             ],
             [
              0.4444444444444444,
              "#bd3786"
             ],
             [
              0.5555555555555556,
              "#d8576b"
             ],
             [
              0.6666666666666666,
              "#ed7953"
             ],
             [
              0.7777777777777778,
              "#fb9f3a"
             ],
             [
              0.8888888888888888,
              "#fdca26"
             ],
             [
              1,
              "#f0f921"
             ]
            ],
            "type": "histogram2dcontour"
           }
          ],
          "mesh3d": [
           {
            "colorbar": {
             "outlinewidth": 0,
             "ticks": ""
            },
            "type": "mesh3d"
           }
          ],
          "parcoords": [
           {
            "line": {
             "colorbar": {
              "outlinewidth": 0,
              "ticks": ""
             }
            },
            "type": "parcoords"
           }
          ],
          "pie": [
           {
            "automargin": true,
            "type": "pie"
           }
          ],
          "scatter": [
           {
            "fillpattern": {
             "fillmode": "overlay",
             "size": 10,
             "solidity": 0.2
            },
            "type": "scatter"
           }
          ],
          "scatter3d": [
           {
            "line": {
             "colorbar": {
              "outlinewidth": 0,
              "ticks": ""
             }
            },
            "marker": {
             "colorbar": {
              "outlinewidth": 0,
              "ticks": ""
             }
            },
            "type": "scatter3d"
           }
          ],
          "scattercarpet": [
           {
            "marker": {
             "colorbar": {
              "outlinewidth": 0,
              "ticks": ""
             }
            },
            "type": "scattercarpet"
           }
          ],
          "scattergeo": [
           {
            "marker": {
             "colorbar": {
              "outlinewidth": 0,
              "ticks": ""
             }
            },
            "type": "scattergeo"
           }
          ],
          "scattergl": [
           {
            "marker": {
             "colorbar": {
              "outlinewidth": 0,
              "ticks": ""
             }
            },
            "type": "scattergl"
           }
          ],
          "scattermap": [
           {
            "marker": {
             "colorbar": {
              "outlinewidth": 0,
              "ticks": ""
             }
            },
            "type": "scattermap"
           }
          ],
          "scattermapbox": [
           {
            "marker": {
             "colorbar": {
              "outlinewidth": 0,
              "ticks": ""
             }
            },
            "type": "scattermapbox"
           }
          ],
          "scatterpolar": [
           {
            "marker": {
             "colorbar": {
              "outlinewidth": 0,
              "ticks": ""
             }
            },
            "type": "scatterpolar"
           }
          ],
          "scatterpolargl": [
           {
            "marker": {
             "colorbar": {
              "outlinewidth": 0,
              "ticks": ""
             }
            },
            "type": "scatterpolargl"
           }
          ],
          "scatterternary": [
           {
            "marker": {
             "colorbar": {
              "outlinewidth": 0,
              "ticks": ""
             }
            },
            "type": "scatterternary"
           }
          ],
          "surface": [
           {
            "colorbar": {
             "outlinewidth": 0,
             "ticks": ""
            },
            "colorscale": [
             [
              0,
              "#0d0887"
             ],
             [
              0.1111111111111111,
              "#46039f"
             ],
             [
              0.2222222222222222,
              "#7201a8"
             ],
             [
              0.3333333333333333,
              "#9c179e"
             ],
             [
              0.4444444444444444,
              "#bd3786"
             ],
             [
              0.5555555555555556,
              "#d8576b"
             ],
             [
              0.6666666666666666,
              "#ed7953"
             ],
             [
              0.7777777777777778,
              "#fb9f3a"
             ],
             [
              0.8888888888888888,
              "#fdca26"
             ],
             [
              1,
              "#f0f921"
             ]
            ],
            "type": "surface"
           }
          ],
          "table": [
           {
            "cells": {
             "fill": {
              "color": "#EBF0F8"
             },
             "line": {
              "color": "white"
             }
            },
            "header": {
             "fill": {
              "color": "#C8D4E3"
             },
             "line": {
              "color": "white"
             }
            },
            "type": "table"
           }
          ]
         },
         "layout": {
          "annotationdefaults": {
           "arrowcolor": "#2a3f5f",
           "arrowhead": 0,
           "arrowwidth": 1
          },
          "autotypenumbers": "strict",
          "coloraxis": {
           "colorbar": {
            "outlinewidth": 0,
            "ticks": ""
           }
          },
          "colorscale": {
           "diverging": [
            [
             0,
             "#8e0152"
            ],
            [
             0.1,
             "#c51b7d"
            ],
            [
             0.2,
             "#de77ae"
            ],
            [
             0.3,
             "#f1b6da"
            ],
            [
             0.4,
             "#fde0ef"
            ],
            [
             0.5,
             "#f7f7f7"
            ],
            [
             0.6,
             "#e6f5d0"
            ],
            [
             0.7,
             "#b8e186"
            ],
            [
             0.8,
             "#7fbc41"
            ],
            [
             0.9,
             "#4d9221"
            ],
            [
             1,
             "#276419"
            ]
           ],
           "sequential": [
            [
             0,
             "#0d0887"
            ],
            [
             0.1111111111111111,
             "#46039f"
            ],
            [
             0.2222222222222222,
             "#7201a8"
            ],
            [
             0.3333333333333333,
             "#9c179e"
            ],
            [
             0.4444444444444444,
             "#bd3786"
            ],
            [
             0.5555555555555556,
             "#d8576b"
            ],
            [
             0.6666666666666666,
             "#ed7953"
            ],
            [
             0.7777777777777778,
             "#fb9f3a"
            ],
            [
             0.8888888888888888,
             "#fdca26"
            ],
            [
             1,
             "#f0f921"
            ]
           ],
           "sequentialminus": [
            [
             0,
             "#0d0887"
            ],
            [
             0.1111111111111111,
             "#46039f"
            ],
            [
             0.2222222222222222,
             "#7201a8"
            ],
            [
             0.3333333333333333,
             "#9c179e"
            ],
            [
             0.4444444444444444,
             "#bd3786"
            ],
            [
             0.5555555555555556,
             "#d8576b"
            ],
            [
             0.6666666666666666,
             "#ed7953"
            ],
            [
             0.7777777777777778,
             "#fb9f3a"
            ],
            [
             0.8888888888888888,
             "#fdca26"
            ],
            [
             1,
             "#f0f921"
            ]
           ]
          },
          "colorway": [
           "#636efa",
           "#EF553B",
           "#00cc96",
           "#ab63fa",
           "#FFA15A",
           "#19d3f3",
           "#FF6692",
           "#B6E880",
           "#FF97FF",
           "#FECB52"
          ],
          "font": {
           "color": "#2a3f5f"
          },
          "geo": {
           "bgcolor": "white",
           "lakecolor": "white",
           "landcolor": "#E5ECF6",
           "showlakes": true,
           "showland": true,
           "subunitcolor": "white"
          },
          "hoverlabel": {
           "align": "left"
          },
          "hovermode": "closest",
          "mapbox": {
           "style": "light"
          },
          "paper_bgcolor": "white",
          "plot_bgcolor": "#E5ECF6",
          "polar": {
           "angularaxis": {
            "gridcolor": "white",
            "linecolor": "white",
            "ticks": ""
           },
           "bgcolor": "#E5ECF6",
           "radialaxis": {
            "gridcolor": "white",
            "linecolor": "white",
            "ticks": ""
           }
          },
          "scene": {
           "xaxis": {
            "backgroundcolor": "#E5ECF6",
            "gridcolor": "white",
            "gridwidth": 2,
            "linecolor": "white",
            "showbackground": true,
            "ticks": "",
            "zerolinecolor": "white"
           },
           "yaxis": {
            "backgroundcolor": "#E5ECF6",
            "gridcolor": "white",
            "gridwidth": 2,
            "linecolor": "white",
            "showbackground": true,
            "ticks": "",
            "zerolinecolor": "white"
           },
           "zaxis": {
            "backgroundcolor": "#E5ECF6",
            "gridcolor": "white",
            "gridwidth": 2,
            "linecolor": "white",
            "showbackground": true,
            "ticks": "",
            "zerolinecolor": "white"
           }
          },
          "shapedefaults": {
           "line": {
            "color": "#2a3f5f"
           }
          },
          "ternary": {
           "aaxis": {
            "gridcolor": "white",
            "linecolor": "white",
            "ticks": ""
           },
           "baxis": {
            "gridcolor": "white",
            "linecolor": "white",
            "ticks": ""
           },
           "bgcolor": "#E5ECF6",
           "caxis": {
            "gridcolor": "white",
            "linecolor": "white",
            "ticks": ""
           }
          },
          "title": {
           "x": 0.05
          },
          "xaxis": {
           "automargin": true,
           "gridcolor": "white",
           "linecolor": "white",
           "ticks": "",
           "title": {
            "standoff": 15
           },
           "zerolinecolor": "white",
           "zerolinewidth": 2
          },
          "yaxis": {
           "automargin": true,
           "gridcolor": "white",
           "linecolor": "white",
           "ticks": "",
           "title": {
            "standoff": 15
           },
           "zerolinecolor": "white",
           "zerolinewidth": 2
          }
         }
        },
        "title": {
         "text": "Interactive Product Type Name Distribution"
        },
        "xaxis": {
         "anchor": "y",
         "domain": [
          0,
          1
         ],
         "tickangle": -45,
         "title": {
          "text": "product_type_name"
         }
        },
        "yaxis": {
         "anchor": "x",
         "domain": [
          0,
          1
         ],
         "title": {
          "text": "count"
         }
        }
       }
      }
     },
     "metadata": {},
     "output_type": "display_data"
    },
    {
     "data": {
      "application/vnd.plotly.v1+json": {
       "config": {
        "plotlyServerURL": "https://plot.ly"
       },
       "data": [
        {
         "hovertemplate": "product_group_name=%{x}<br>count=%{y}<extra></extra>",
         "legendgroup": "",
         "marker": {
          "color": "#636efa",
          "pattern": {
           "shape": ""
          }
         },
         "name": "",
         "orientation": "v",
         "showlegend": false,
         "textposition": "auto",
         "type": "bar",
         "x": [
          "Garment Upper body",
          "Garment Lower body",
          "Garment Full body",
          "Accessories",
          "Underwear",
          "Shoes",
          "Swimwear",
          "Socks & Tights",
          "Nightwear",
          "Unknown",
          "Bags",
          "Items",
          "Cosmetic",
          "Garment and Shoe care",
          "Underwear/nightwear",
          "Stationery",
          "Fun",
          "Furniture"
         ],
         "xaxis": "x",
         "y": {
          "bdata": "Ez0AAJQhAACkFgAAUxAAAMcJAACbBwAAHAcAAO0DAAB3AgAAbwAAABkAAAAPAAAADQAAAAgAAAAHAAAABAAAAAIAAAABAAAA",
          "dtype": "u4"
         },
         "yaxis": "y"
        }
       ],
       "layout": {
        "barmode": "relative",
        "height": 500,
        "legend": {
         "tracegroupgap": 0
        },
        "showlegend": false,
        "template": {
         "data": {
          "bar": [
           {
            "error_x": {
             "color": "#2a3f5f"
            },
            "error_y": {
             "color": "#2a3f5f"
            },
            "marker": {
             "line": {
              "color": "#E5ECF6",
              "width": 0.5
             },
             "pattern": {
              "fillmode": "overlay",
              "size": 10,
              "solidity": 0.2
             }
            },
            "type": "bar"
           }
          ],
          "barpolar": [
           {
            "marker": {
             "line": {
              "color": "#E5ECF6",
              "width": 0.5
             },
             "pattern": {
              "fillmode": "overlay",
              "size": 10,
              "solidity": 0.2
             }
            },
            "type": "barpolar"
           }
          ],
          "carpet": [
           {
            "aaxis": {
             "endlinecolor": "#2a3f5f",
             "gridcolor": "white",
             "linecolor": "white",
             "minorgridcolor": "white",
             "startlinecolor": "#2a3f5f"
            },
            "baxis": {
             "endlinecolor": "#2a3f5f",
             "gridcolor": "white",
             "linecolor": "white",
             "minorgridcolor": "white",
             "startlinecolor": "#2a3f5f"
            },
            "type": "carpet"
           }
          ],
          "choropleth": [
           {
            "colorbar": {
             "outlinewidth": 0,
             "ticks": ""
            },
            "type": "choropleth"
           }
          ],
          "contour": [
           {
            "colorbar": {
             "outlinewidth": 0,
             "ticks": ""
            },
            "colorscale": [
             [
              0,
              "#0d0887"
             ],
             [
              0.1111111111111111,
              "#46039f"
             ],
             [
              0.2222222222222222,
              "#7201a8"
             ],
             [
              0.3333333333333333,
              "#9c179e"
             ],
             [
              0.4444444444444444,
              "#bd3786"
             ],
             [
              0.5555555555555556,
              "#d8576b"
             ],
             [
              0.6666666666666666,
              "#ed7953"
             ],
             [
              0.7777777777777778,
              "#fb9f3a"
             ],
             [
              0.8888888888888888,
              "#fdca26"
             ],
             [
              1,
              "#f0f921"
             ]
            ],
            "type": "contour"
           }
          ],
          "contourcarpet": [
           {
            "colorbar": {
             "outlinewidth": 0,
             "ticks": ""
            },
            "type": "contourcarpet"
           }
          ],
          "heatmap": [
           {
            "colorbar": {
             "outlinewidth": 0,
             "ticks": ""
            },
            "colorscale": [
             [
              0,
              "#0d0887"
             ],
             [
              0.1111111111111111,
              "#46039f"
             ],
             [
              0.2222222222222222,
              "#7201a8"
             ],
             [
              0.3333333333333333,
              "#9c179e"
             ],
             [
              0.4444444444444444,
              "#bd3786"
             ],
             [
              0.5555555555555556,
              "#d8576b"
             ],
             [
              0.6666666666666666,
              "#ed7953"
             ],
             [
              0.7777777777777778,
              "#fb9f3a"
             ],
             [
              0.8888888888888888,
              "#fdca26"
             ],
             [
              1,
              "#f0f921"
             ]
            ],
            "type": "heatmap"
           }
          ],
          "histogram": [
           {
            "marker": {
             "pattern": {
              "fillmode": "overlay",
              "size": 10,
              "solidity": 0.2
             }
            },
            "type": "histogram"
           }
          ],
          "histogram2d": [
           {
            "colorbar": {
             "outlinewidth": 0,
             "ticks": ""
            },
            "colorscale": [
             [
              0,
              "#0d0887"
             ],
             [
              0.1111111111111111,
              "#46039f"
             ],
             [
              0.2222222222222222,
              "#7201a8"
             ],
             [
              0.3333333333333333,
              "#9c179e"
             ],
             [
              0.4444444444444444,
              "#bd3786"
             ],
             [
              0.5555555555555556,
              "#d8576b"
             ],
             [
              0.6666666666666666,
              "#ed7953"
             ],
             [
              0.7777777777777778,
              "#fb9f3a"
             ],
             [
              0.8888888888888888,
              "#fdca26"
             ],
             [
              1,
              "#f0f921"
             ]
            ],
            "type": "histogram2d"
           }
          ],
          "histogram2dcontour": [
           {
            "colorbar": {
             "outlinewidth": 0,
             "ticks": ""
            },
            "colorscale": [
             [
              0,
              "#0d0887"
             ],
             [
              0.1111111111111111,
              "#46039f"
             ],
             [
              0.2222222222222222,
              "#7201a8"
             ],
             [
              0.3333333333333333,
              "#9c179e"
             ],
             [
              0.4444444444444444,
              "#bd3786"
             ],
             [
              0.5555555555555556,
              "#d8576b"
             ],
             [
              0.6666666666666666,
              "#ed7953"
             ],
             [
              0.7777777777777778,
              "#fb9f3a"
             ],
             [
              0.8888888888888888,
              "#fdca26"
             ],
             [
              1,
              "#f0f921"
             ]
            ],
            "type": "histogram2dcontour"
           }
          ],
          "mesh3d": [
           {
            "colorbar": {
             "outlinewidth": 0,
             "ticks": ""
            },
            "type": "mesh3d"
           }
          ],
          "parcoords": [
           {
            "line": {
             "colorbar": {
              "outlinewidth": 0,
              "ticks": ""
             }
            },
            "type": "parcoords"
           }
          ],
          "pie": [
           {
            "automargin": true,
            "type": "pie"
           }
          ],
          "scatter": [
           {
            "fillpattern": {
             "fillmode": "overlay",
             "size": 10,
             "solidity": 0.2
            },
            "type": "scatter"
           }
          ],
          "scatter3d": [
           {
            "line": {
             "colorbar": {
              "outlinewidth": 0,
              "ticks": ""
             }
            },
            "marker": {
             "colorbar": {
              "outlinewidth": 0,
              "ticks": ""
             }
            },
            "type": "scatter3d"
           }
          ],
          "scattercarpet": [
           {
            "marker": {
             "colorbar": {
              "outlinewidth": 0,
              "ticks": ""
             }
            },
            "type": "scattercarpet"
           }
          ],
          "scattergeo": [
           {
            "marker": {
             "colorbar": {
              "outlinewidth": 0,
              "ticks": ""
             }
            },
            "type": "scattergeo"
           }
          ],
          "scattergl": [
           {
            "marker": {
             "colorbar": {
              "outlinewidth": 0,
              "ticks": ""
             }
            },
            "type": "scattergl"
           }
          ],
          "scattermap": [
           {
            "marker": {
             "colorbar": {
              "outlinewidth": 0,
              "ticks": ""
             }
            },
            "type": "scattermap"
           }
          ],
          "scattermapbox": [
           {
            "marker": {
             "colorbar": {
              "outlinewidth": 0,
              "ticks": ""
             }
            },
            "type": "scattermapbox"
           }
          ],
          "scatterpolar": [
           {
            "marker": {
             "colorbar": {
              "outlinewidth": 0,
              "ticks": ""
             }
            },
            "type": "scatterpolar"
           }
          ],
          "scatterpolargl": [
           {
            "marker": {
             "colorbar": {
              "outlinewidth": 0,
              "ticks": ""
             }
            },
            "type": "scatterpolargl"
           }
          ],
          "scatterternary": [
           {
            "marker": {
             "colorbar": {
              "outlinewidth": 0,
              "ticks": ""
             }
            },
            "type": "scatterternary"
           }
          ],
          "surface": [
           {
            "colorbar": {
             "outlinewidth": 0,
             "ticks": ""
            },
            "colorscale": [
             [
              0,
              "#0d0887"
             ],
             [
              0.1111111111111111,
              "#46039f"
             ],
             [
              0.2222222222222222,
              "#7201a8"
             ],
             [
              0.3333333333333333,
              "#9c179e"
             ],
             [
              0.4444444444444444,
              "#bd3786"
             ],
             [
              0.5555555555555556,
              "#d8576b"
             ],
             [
              0.6666666666666666,
              "#ed7953"
             ],
             [
              0.7777777777777778,
              "#fb9f3a"
             ],
             [
              0.8888888888888888,
              "#fdca26"
             ],
             [
              1,
              "#f0f921"
             ]
            ],
            "type": "surface"
           }
          ],
          "table": [
           {
            "cells": {
             "fill": {
              "color": "#EBF0F8"
             },
             "line": {
              "color": "white"
             }
            },
            "header": {
             "fill": {
              "color": "#C8D4E3"
             },
             "line": {
              "color": "white"
             }
            },
            "type": "table"
           }
          ]
         },
         "layout": {
          "annotationdefaults": {
           "arrowcolor": "#2a3f5f",
           "arrowhead": 0,
           "arrowwidth": 1
          },
          "autotypenumbers": "strict",
          "coloraxis": {
           "colorbar": {
            "outlinewidth": 0,
            "ticks": ""
           }
          },
          "colorscale": {
           "diverging": [
            [
             0,
             "#8e0152"
            ],
            [
             0.1,
             "#c51b7d"
            ],
            [
             0.2,
             "#de77ae"
            ],
            [
             0.3,
             "#f1b6da"
            ],
            [
             0.4,
             "#fde0ef"
            ],
            [
             0.5,
             "#f7f7f7"
            ],
            [
             0.6,
             "#e6f5d0"
            ],
            [
             0.7,
             "#b8e186"
            ],
            [
             0.8,
             "#7fbc41"
            ],
            [
             0.9,
             "#4d9221"
            ],
            [
             1,
             "#276419"
            ]
           ],
           "sequential": [
            [
             0,
             "#0d0887"
            ],
            [
             0.1111111111111111,
             "#46039f"
            ],
            [
             0.2222222222222222,
             "#7201a8"
            ],
            [
             0.3333333333333333,
             "#9c179e"
            ],
            [
             0.4444444444444444,
             "#bd3786"
            ],
            [
             0.5555555555555556,
             "#d8576b"
            ],
            [
             0.6666666666666666,
             "#ed7953"
            ],
            [
             0.7777777777777778,
             "#fb9f3a"
            ],
            [
             0.8888888888888888,
             "#fdca26"
            ],
            [
             1,
             "#f0f921"
            ]
           ],
           "sequentialminus": [
            [
             0,
             "#0d0887"
            ],
            [
             0.1111111111111111,
             "#46039f"
            ],
            [
             0.2222222222222222,
             "#7201a8"
            ],
            [
             0.3333333333333333,
             "#9c179e"
            ],
            [
             0.4444444444444444,
             "#bd3786"
            ],
            [
             0.5555555555555556,
             "#d8576b"
            ],
            [
             0.6666666666666666,
             "#ed7953"
            ],
            [
             0.7777777777777778,
             "#fb9f3a"
            ],
            [
             0.8888888888888888,
             "#fdca26"
            ],
            [
             1,
             "#f0f921"
            ]
           ]
          },
          "colorway": [
           "#636efa",
           "#EF553B",
           "#00cc96",
           "#ab63fa",
           "#FFA15A",
           "#19d3f3",
           "#FF6692",
           "#B6E880",
           "#FF97FF",
           "#FECB52"
          ],
          "font": {
           "color": "#2a3f5f"
          },
          "geo": {
           "bgcolor": "white",
           "lakecolor": "white",
           "landcolor": "#E5ECF6",
           "showlakes": true,
           "showland": true,
           "subunitcolor": "white"
          },
          "hoverlabel": {
           "align": "left"
          },
          "hovermode": "closest",
          "mapbox": {
           "style": "light"
          },
          "paper_bgcolor": "white",
          "plot_bgcolor": "#E5ECF6",
          "polar": {
           "angularaxis": {
            "gridcolor": "white",
            "linecolor": "white",
            "ticks": ""
           },
           "bgcolor": "#E5ECF6",
           "radialaxis": {
            "gridcolor": "white",
            "linecolor": "white",
            "ticks": ""
           }
          },
          "scene": {
           "xaxis": {
            "backgroundcolor": "#E5ECF6",
            "gridcolor": "white",
            "gridwidth": 2,
            "linecolor": "white",
            "showbackground": true,
            "ticks": "",
            "zerolinecolor": "white"
           },
           "yaxis": {
            "backgroundcolor": "#E5ECF6",
            "gridcolor": "white",
            "gridwidth": 2,
            "linecolor": "white",
            "showbackground": true,
            "ticks": "",
            "zerolinecolor": "white"
           },
           "zaxis": {
            "backgroundcolor": "#E5ECF6",
            "gridcolor": "white",
            "gridwidth": 2,
            "linecolor": "white",
            "showbackground": true,
            "ticks": "",
            "zerolinecolor": "white"
           }
          },
          "shapedefaults": {
           "line": {
            "color": "#2a3f5f"
           }
          },
          "ternary": {
           "aaxis": {
            "gridcolor": "white",
            "linecolor": "white",
            "ticks": ""
           },
           "baxis": {
            "gridcolor": "white",
            "linecolor": "white",
            "ticks": ""
           },
           "bgcolor": "#E5ECF6",
           "caxis": {
            "gridcolor": "white",
            "linecolor": "white",
            "ticks": ""
           }
          },
          "title": {
           "x": 0.05
          },
          "xaxis": {
           "automargin": true,
           "gridcolor": "white",
           "linecolor": "white",
           "ticks": "",
           "title": {
            "standoff": 15
           },
           "zerolinecolor": "white",
           "zerolinewidth": 2
          },
          "yaxis": {
           "automargin": true,
           "gridcolor": "white",
           "linecolor": "white",
           "ticks": "",
           "title": {
            "standoff": 15
           },
           "zerolinecolor": "white",
           "zerolinewidth": 2
          }
         }
        },
        "title": {
         "text": "Interactive Product Group Name Distribution"
        },
        "xaxis": {
         "anchor": "y",
         "domain": [
          0,
          1
         ],
         "tickangle": -45,
         "title": {
          "text": "product_group_name"
         }
        },
        "yaxis": {
         "anchor": "x",
         "domain": [
          0,
          1
         ],
         "title": {
          "text": "count"
         }
        }
       }
      }
     },
     "metadata": {},
     "output_type": "display_data"
    }
   ],
   "source": [
    "# Create interactive visualisations using Plotly\n",
    "print(\"📊 Interactive Article Analytics\")\n",
    "\n",
    "# Interactive categorical feature distribution\n",
    "if categorical_features:\n",
    "    for feature in categorical_features[:2]:  # Show first 2 categorical features\n",
    "        if feature in df.columns:\n",
    "            # Get category counts\n",
    "            category_counts = (\n",
    "                df.group_by(feature)\n",
    "                .count()\n",
    "                .sort('count', descending=True)\n",
    "                .head(20)  # Top 20 categories\n",
    "                .to_pandas()\n",
    "            )\n",
    "            \n",
    "            # Create interactive bar chart\n",
    "            fig = px.bar(\n",
    "                category_counts,\n",
    "                x=feature,\n",
    "                y='count',\n",
    "                title=f'Interactive {feature.replace(\"_\", \" \").title()} Distribution',\n",
    "                hover_data=['count']\n",
    "            )\n",
    "            \n",
    "            fig.update_layout(\n",
    "                xaxis_tickangle=-45,\n",
    "                height=500,\n",
    "                showlegend=False\n",
    "            )\n",
    "            \n",
    "            fig.show()\n",
    "\n",
    "# Interactive correlation heatmap (subset of features)\n",
    "if len(correlation_features) > 2:\n",
    "    # Use subset for interactive visualisation\n",
    "    subset_features = correlation_features[:15]  # First 15 features\n",
    "    corr_subset = df.select(subset_features).to_pandas().fillna(0).corr()\n",
    "    \n",
    "    fig_corr = px.imshow(\n",
    "        corr_subset,\n",
    "        text_auto=True,\n",
    "        aspect=\"auto\",\n",
    "        title=\"Interactive Article Feature Correlation Matrix\",\n",
    "        color_continuous_scale='RdBu_r',\n",
    "        color_continuous_midpoint=0\n",
    "    )\n",
    "    \n",
    "    fig_corr.update_layout(height=600)\n",
    "    fig_corr.show()\n",
    "\n",
    "# Interactive 3D cluster visualisation\n",
    "if 'final_clusters' in locals() and len(clustering_features) >= 3:\n",
    "    # Sample data for performance\n",
    "    sample_size = min(2000, df.height)\n",
    "    sample_indices = np.random.choice(df.height, sample_size, replace=False)\n",
    "    \n",
    "    sample_data = cluster_df.iloc[sample_indices].copy()\n",
    "    \n",
    "    if len(clustering_features) >= 3:\n",
    "        fig_3d = px.scatter_3d(\n",
    "            sample_data,\n",
    "            x=clustering_features[0],\n",
    "            y=clustering_features[1],\n",
    "            z=clustering_features[2],\n",
    "            color='cluster',\n",
    "            title='Interactive 3D Article Clustering View',\n",
    "            hover_data=['article_id'],\n",
    "            color_continuous_scale='viridis'\n",
    "        )\n",
    "        \n",
    "        fig_3d.update_layout(height=600)\n",
    "        fig_3d.show()\n",
    "\n",
    "# Interactive embedding space visualisation (if available)\n",
    "if text_embedding_features and len(text_embedding_features) >= 2:\n",
    "    # Use first two embedding dimensions\n",
    "    embed_sample = df.select(['article_id'] + text_embedding_features[:2]).to_pandas().sample(\n",
    "        min(1000, df.height)\n",
    "    )\n",
    "    \n",
    "    fig_embed = px.scatter(\n",
    "        embed_sample,\n",
    "        x=text_embedding_features[0],\n",
    "        y=text_embedding_features[1],\n",
    "        title='Interactive Embedding Space Visualisation',\n",
    "        hover_data=['article_id'],\n",
    "        opacity=0.6\n",
    "    )\n",
    "    \n",
    "    fig_embed.update_layout(height=500)\n",
    "    fig_embed.show()"
   ]
  },
  {
   "cell_type": "markdown",
   "metadata": {},
   "source": [
    "## 9. Article Insights and Recommendations\n"
   ]
  },
  {
   "cell_type": "code",
   "execution_count": 11,
   "metadata": {},
   "outputs": [
    {
     "name": "stdout",
     "output_type": "stream",
     "text": [
      "💡 Article Features Insights and Recommendations\n",
      "============================================================\n",
      "🎯 DATASET OVERVIEW:\n",
      "• Total Articles: 42,298\n",
      "• Total Features: 14\n",
      "• Complete Records: 42,229 (99.8%)\n",
      "• Feature Categories: 11 categorical, 1 numeric, 1 embeddings\n",
      "\n",
      "🏷️ PRODUCT CATALOGUE DIVERSITY:\n",
      "• Product Type Name: 124 unique values (diversity: 0.3%)\n",
      "  Concentration: Low (top category: 11.5% of articles)\n",
      "• Product Group Name: 18 unique values (diversity: 0.0%)\n",
      "  Concentration: Medium (top category: 37.0% of articles)\n",
      "• Graphical Appearance Name: 30 unique values (diversity: 0.1%)\n",
      "  Concentration: High (top category: 51.8% of articles)\n",
      "• Colour Group Name: 50 unique values (diversity: 0.1%)\n",
      "  Concentration: Low (top category: 23.8% of articles)\n",
      "• Perceived Colour Value Name: 8 unique values (diversity: 0.0%)\n",
      "  Concentration: Medium (top category: 39.7% of articles)\n",
      "• Perceived Colour Master Name: 20 unique values (diversity: 0.0%)\n",
      "  Concentration: Low (top category: 23.8% of articles)\n",
      "• Department Name: 238 unique values (diversity: 0.6%)\n",
      "  Concentration: Low (top category: 5.3% of articles)\n",
      "• Index Name: 10 unique values (diversity: 0.0%)\n",
      "  Concentration: Medium (top category: 30.4% of articles)\n",
      "• Index Group Name: 5 unique values (diversity: 0.0%)\n",
      "  Concentration: Medium (top category: 47.9% of articles)\n",
      "• Section Name: 56 unique values (diversity: 0.1%)\n",
      "  Concentration: Low (top category: 9.1% of articles)\n",
      "• Garment Group Name: 21 unique values (diversity: 0.0%)\n",
      "  Concentration: Low (top category: 18.2% of articles)\n",
      "\n",
      "🤖 FEATURE ENGINEERING QUALITY:\n",
      "• Embedding Features: 1 dimensions\n",
      "• Average Variance: 72.1047\n",
      "• Average Standard Deviation: 8.4914\n",
      "\n",
      "🎯 STRATEGIC RECOMMENDATIONS:\n",
      "• 🎯 Consider consolidating product type name categories (124 may be too many)\n",
      "• 📈 Consider expanding perceived colour value name variety (only 8 categories)\n",
      "• 🎯 Consider consolidating department name categories (238 may be too many)\n",
      "• 📈 Consider expanding index group name variety (only 5 categories)\n",
      "\n",
      "📊 ANALYTICS RECOMMENDATIONS:\n",
      "• Implement automated article similarity scoring\n",
      "• Develop product performance tracking by cluster\n",
      "• Create embedding-based product search functionality\n",
      "• Set up monitoring for catalogue diversity metrics\n",
      "• Build recommendation engines using article features\n",
      "\n",
      "🔍 DATA QUALITY RECOMMENDATIONS:\n",
      "• Regular feature quality audits\n",
      "• Monitor embedding feature drift over time\n",
      "• Validate clustering stability with new data\n",
      "\n",
      "🎉 ANALYSIS COMPLETE\n",
      "✅ Analysed 42,298 article records\n",
      "✅ Processed 14 engineered features\n",
      "✅ Identified product segments and patterns\n",
      "✅ Generated actionable recommendations\n"
     ]
    }
   ],
   "source": [
    "# Generate comprehensive article insights and recommendations\n",
    "print(\"💡 Article Features Insights and Recommendations\")\n",
    "print(\"=\" * 60)\n",
    "\n",
    "# Basic dataset statistics\n",
    "total_articles = df.height\n",
    "total_features = df.width\n",
    "complete_articles = df.filter(pl.all_horizontal(pl.all().is_not_null())).height\n",
    "\n",
    "print(\"🎯 DATASET OVERVIEW:\")\n",
    "print(f\"• Total Articles: {total_articles:,}\")\n",
    "print(f\"• Total Features: {total_features}\")\n",
    "print(f\"• Complete Records: {complete_articles:,} ({complete_articles/total_articles*100:.1f}%)\")\n",
    "print(f\"• Feature Categories: {len(categorical_features)} categorical, {len(analysis_numeric_features)} numeric, {len(text_embedding_features)} embeddings\")\n",
    "\n",
    "# Categorical feature diversity\n",
    "if categorical_features:\n",
    "    print(\"\\n🏷️ PRODUCT CATALOGUE DIVERSITY:\")\n",
    "    \n",
    "    for feature in categorical_features:\n",
    "        if feature in df.columns:\n",
    "            unique_count = df.select(pl.col(feature).n_unique()).item()\n",
    "            diversity_ratio = unique_count / total_articles\n",
    "            \n",
    "            print(f\"• {feature.replace('_', ' ').title()}: {unique_count} unique values (diversity: {diversity_ratio:.1%})\")\n",
    "            \n",
    "            # Category concentration analysis\n",
    "            top_category_share = (\n",
    "                df.group_by(feature)\n",
    "                .count()\n",
    "                .sort('count', descending=True)\n",
    "                .head(1)\n",
    "                .select((pl.col('count') / total_articles * 100).alias('percentage'))\n",
    "                .item()\n",
    "            )\n",
    "            \n",
    "            concentration = \"High\" if top_category_share > 50 else \"Medium\" if top_category_share > 25 else \"Low\"\n",
    "            print(f\"  Concentration: {concentration} (top category: {top_category_share:.1f}% of articles)\")\n",
    "\n",
    "# Feature engineering quality assessment\n",
    "if text_embedding_features:\n",
    "    print(\"\\n🤖 FEATURE ENGINEERING QUALITY:\")\n",
    "    \n",
    "    # Embedding feature statistics\n",
    "    embedding_sample = text_embedding_features[:20]\n",
    "    \n",
    "    if embedding_sample:\n",
    "        # Calculate average variance across embedding dimensions\n",
    "        embedding_data = df.select(embedding_sample).to_pandas().fillna(0)\n",
    "        avg_variance = embedding_data.var().mean()\n",
    "        avg_std = embedding_data.std().mean()\n",
    "        \n",
    "        print(f\"• Embedding Features: {len(text_embedding_features)} dimensions\")\n",
    "        print(f\"• Average Variance: {avg_variance:.4f}\")\n",
    "        print(f\"• Average Standard Deviation: {avg_std:.4f}\")\n",
    "        \n",
    "        # Feature redundancy assessment\n",
    "        if 'strong_correlations' in locals():\n",
    "            high_corr_count = len([c for c in strong_correlations if abs(c['Correlation']) > 0.8])\n",
    "            redundancy_level = \"High\" if high_corr_count > 10 else \"Medium\" if high_corr_count > 5 else \"Low\"\n",
    "            print(f\"• Feature Redundancy: {redundancy_level} ({high_corr_count} highly correlated pairs)\")\n",
    "\n",
    "# Clustering insights\n",
    "if 'optimal_k' in locals():\n",
    "    print(\"\\n🎯 PRODUCT SEGMENTATION INSIGHTS:\")\n",
    "    print(f\"• Optimal Clusters: {optimal_k} distinct product segments\")\n",
    "    print(f\"• Clustering Quality: {best_silhouette:.3f} silhouette score\")\n",
    "    \n",
    "    # Cluster balance analysis\n",
    "    if 'cluster_summary' in locals():\n",
    "        cluster_sizes = [c['Size'] for c in cluster_summary]\n",
    "        size_std = np.std(cluster_sizes)\n",
    "        size_mean = np.mean(cluster_sizes)\n",
    "        balance_ratio = size_std / size_mean\n",
    "        \n",
    "        balance_level = \"Well-balanced\" if balance_ratio < 0.5 else \"Moderately balanced\" if balance_ratio < 1.0 else \"Imbalanced\"\n",
    "        print(f\"• Cluster Balance: {balance_level} (CV: {balance_ratio:.2f})\")\n",
    "        \n",
    "        largest_cluster = max(cluster_sizes)\n",
    "        smallest_cluster = min(cluster_sizes)\n",
    "        print(f\"• Size Range: {smallest_cluster:,} - {largest_cluster:,} articles per cluster\")\n",
    "\n",
    "# Strategic recommendations\n",
    "print(\"\\n🎯 STRATEGIC RECOMMENDATIONS:\")\n",
    "\n",
    "# Product catalogue recommendations\n",
    "if categorical_features:\n",
    "    for feature in categorical_features:\n",
    "        if feature in df.columns:\n",
    "            unique_count = df.select(pl.col(feature).n_unique()).item()\n",
    "            \n",
    "            if unique_count < 10:\n",
    "                print(f\"• 📈 Consider expanding {feature.replace('_', ' ')} variety (only {unique_count} categories)\")\n",
    "            elif unique_count > 100:\n",
    "                print(f\"• 🎯 Consider consolidating {feature.replace('_', ' ')} categories ({unique_count} may be too many)\")\n",
    "\n",
    "# Feature engineering recommendations\n",
    "if text_embedding_features:\n",
    "    if len(text_embedding_features) > 100:\n",
    "        print(\"• 🔧 Consider dimensionality reduction for embedding features (current: {} dimensions)\".format(len(text_embedding_features)))\n",
    "        print(\"  - Apply PCA or t-SNE for visualisation\")\n",
    "        print(\"  - Use feature selection techniques\")\n",
    "    \n",
    "    if 'high_corr_count' in locals() and high_corr_count > 10:\n",
    "        print(\"• ⚡ Address feature redundancy to improve model efficiency\")\n",
    "        print(\"  - Remove highly correlated features\")\n",
    "        print(\"  - Apply regularisation techniques\")\n",
    "\n",
    "# Clustering-based recommendations\n",
    "if 'optimal_k' in locals():\n",
    "    print(f\"• 🛍️ Leverage {optimal_k} product segments for:\")\n",
    "    print(\"  - Targeted marketing campaigns\")\n",
    "    print(\"  - Inventory management optimisation\")\n",
    "    print(\"  - Product recommendation systems\")\n",
    "    print(\"  - Pricing strategy development\")\n",
    "    \n",
    "    if 'balance_level' in locals() and 'Imbalanced' in balance_level:\n",
    "        print(\"• ⚖️ Address cluster imbalance for better segmentation\")\n",
    "        print(\"  - Investigate dominant clusters\")\n",
    "        print(\"  - Consider alternative clustering algorithms\")\n",
    "        print(\"  - Apply stratified sampling for analysis\")\n",
    "\n",
    "print(\"\\n📊 ANALYTICS RECOMMENDATIONS:\")\n",
    "print(\"• Implement automated article similarity scoring\")\n",
    "print(\"• Develop product performance tracking by cluster\")\n",
    "print(\"• Create embedding-based product search functionality\")\n",
    "print(\"• Set up monitoring for catalogue diversity metrics\")\n",
    "print(\"• Build recommendation engines using article features\")\n",
    "\n",
    "print(\"\\n🔍 DATA QUALITY RECOMMENDATIONS:\")\n",
    "if complete_articles / total_articles < 0.95:\n",
    "    print(\"• 🚨 Improve data completeness - missing values detected\")\n",
    "    print(\"  - Implement data validation pipelines\")\n",
    "    print(\"  - Add imputation strategies for missing features\")\n",
    "\n",
    "print(\"• Regular feature quality audits\")\n",
    "print(\"• Monitor embedding feature drift over time\")\n",
    "print(\"• Validate clustering stability with new data\")\n",
    "\n",
    "print(\"\\n🎉 ANALYSIS COMPLETE\")\n",
    "print(f\"✅ Analysed {total_articles:,} article records\")\n",
    "print(f\"✅ Processed {total_features} engineered features\")\n",
    "print(f\"✅ Identified product segments and patterns\")\n",
    "print(f\"✅ Generated actionable recommendations\")"
   ]
  }
 ],
 "metadata": {
  "kernelspec": {
   "display_name": ".venv",
   "language": "python",
   "name": "python3"
  },
  "language_info": {
   "codemirror_mode": {
    "name": "ipython",
    "version": 3
   },
   "file_extension": ".py",
   "mimetype": "text/x-python",
   "name": "python",
   "nbconvert_exporter": "python",
   "pygments_lexer": "ipython3",
   "version": "3.11.9"
  }
 },
 "nbformat": 4,
 "nbformat_minor": 4
}
