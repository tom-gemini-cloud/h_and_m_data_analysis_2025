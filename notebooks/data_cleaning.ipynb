{
 "cells": [
  {
   "cell_type": "markdown",
   "id": "5c7d5660",
   "metadata": {},
   "source": [
    "# Data Cleaning\n"
   ]
  },
  {
   "cell_type": "code",
   "execution_count": 1,
   "id": "3dbe5686",
   "metadata": {},
   "outputs": [
    {
     "name": "stdout",
     "output_type": "stream",
     "text": [
      "Starting comprehensive data cleaning process...\n",
      "\n",
      "Cleaning transactions dataset...\n",
      "Transactions cleaned: 3,904,391 -> 3,904,391 rows\n",
      "Cleaning customers dataset...\n",
      "Customers cleaned: 525,075 -> 525,075 rows\n",
      "Cleaning articles dataset...\n",
      "Articles cleaned: 42,298 -> 42,298 rows\n",
      "\n",
      "All datasets cleaned successfully!\n",
      "Output directory: c:\\Users\\tom\\coding_projects\\data_analytics_projects\\h_and_m_data_analysis\\data\\cleaned\n",
      "Cleaning report generated: results\\cleaning\\data_cleaning_report.md\n",
      "Files created:\n",
      "  transactions_parquet: data\\cleaned\\transactions_last_3_months_cleaned.parquet\n",
      "  customers_parquet: data\\cleaned\\customers_last_3_months_cleaned.parquet\n",
      "  articles_parquet: data\\cleaned\\articles_last_3_months_cleaned.parquet\n",
      "  cleaning_report: results\\cleaning\\data_cleaning_report.md\n"
     ]
    }
   ],
   "source": [
    "import sys\n",
    "sys.path.append('../') \n",
    "\n",
    "from hnm_data_analysis.data_cleaning.data_cleaner import clean_all_datasets\n",
    "from hnm_data_analysis.data_understanding.data_report_generator import generate_data_report\n",
    "\n",
    "output_paths = clean_all_datasets(\n",
    "    '../data/processed/transactions_last_3_months.parquet',\n",
    "    '../data/processed/customers_last_3_months.parquet',\n",
    "    '../data/processed/articles_last_3_months.parquet'\n",
    ")\n",
    "\n",
    "print(\"Files created:\")\n",
    "for key, path in output_paths.items():\n",
    "    print(f\"  {key}: {path}\")"
   ]
  },
  {
   "cell_type": "markdown",
   "id": "3eefde8c",
   "metadata": {},
   "source": [
    "## Inspect the cleaned data\n"
   ]
  },
  {
   "cell_type": "code",
   "execution_count": 2,
   "id": "a28619b9",
   "metadata": {},
   "outputs": [
    {
     "name": "stdout",
     "output_type": "stream",
     "text": [
      "Data report generated successfully!\n",
      "Analysed file: ..\\data\\cleaned\\transactions_last_3_months_cleaned.parquet\n",
      "Report saved to: C:\\Users\\tom\\coding_projects\\data_analytics_projects\\h_and_m_data_analysis\\results\\data_documentation\\data_reports\\transactions_last_3_months_cleaned_data_report.md\n",
      "results\\data_documentation\\data_reports\\transactions_last_3_months_cleaned_data_report.md\n",
      "Data report generated successfully!\n",
      "Analysed file: ..\\data\\cleaned\\customers_last_3_months_cleaned.parquet\n",
      "Report saved to: C:\\Users\\tom\\coding_projects\\data_analytics_projects\\h_and_m_data_analysis\\results\\data_documentation\\data_reports\\customers_last_3_months_cleaned_data_report.md\n",
      "results\\data_documentation\\data_reports\\customers_last_3_months_cleaned_data_report.md\n",
      "Data report generated successfully!\n",
      "Analysed file: ..\\data\\cleaned\\articles_last_3_months_cleaned.parquet\n",
      "Report saved to: C:\\Users\\tom\\coding_projects\\data_analytics_projects\\h_and_m_data_analysis\\results\\data_documentation\\data_reports\\articles_last_3_months_cleaned_data_report.md\n",
      "results\\data_documentation\\data_reports\\articles_last_3_months_cleaned_data_report.md\n"
     ]
    }
   ],
   "source": [
    "try:\n",
    "    # Generate data report for transactions_last_3_months_cleaned.parquet\n",
    "    print(generate_data_report(\"../data/cleaned/transactions_last_3_months_cleaned.parquet\"))\n",
    "\n",
    "    # Generate data report for customers_last_3_months_cleaned.parquet\n",
    "    print(generate_data_report(\"../data/cleaned/customers_last_3_months_cleaned.parquet\"))\n",
    "\n",
    "    # Generate data report for articles_last_3_months_cleaned.parquet\n",
    "    print(generate_data_report(\"../data/cleaned/articles_last_3_months_cleaned.parquet\"))\n",
    "    \n",
    "except Exception as e:\n",
    "    print(f\"Error: {e}\")"
   ]
  }
 ],
 "metadata": {
  "kernelspec": {
   "display_name": ".venv",
   "language": "python",
   "name": "python3"
  },
  "language_info": {
   "codemirror_mode": {
    "name": "ipython",
    "version": 3
   },
   "file_extension": ".py",
   "mimetype": "text/x-python",
   "name": "python",
   "nbconvert_exporter": "python",
   "pygments_lexer": "ipython3",
   "version": "3.11.9"
  }
 },
 "nbformat": 4,
 "nbformat_minor": 5
}
